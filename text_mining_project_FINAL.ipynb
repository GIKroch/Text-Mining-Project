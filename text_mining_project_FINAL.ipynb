{
 "cells": [
  {
   "cell_type": "markdown",
   "metadata": {},
   "source": [
    "# Reaction to eliminating Iranian commander by U.S. - Twitter Sentiment Analysis"
   ]
  },
  {
   "cell_type": "markdown",
   "metadata": {},
   "source": [
    "**Authors:** Grzegorz Krochmal & Katarzyna Kryńska"
   ]
  },
  {
   "cell_type": "markdown",
   "metadata": {},
   "source": [
    "## Goal of the project"
   ]
  },
  {
   "cell_type": "markdown",
   "metadata": {},
   "source": [
    "1. Collect tweets from the period just before eliminating Iranian commander Qasem Soleimani by U.S. and after it.\n",
    "2. Build and train SVM and Naive Bayes models on annotated dataset that contains tweets.\n",
    "3. Identify tweets' sentiment using best performing model."
   ]
  },
  {
   "cell_type": "markdown",
   "metadata": {},
   "source": [
    "## Introduction"
   ]
  },
  {
   "cell_type": "markdown",
   "metadata": {},
   "source": [
    "There are no doubts that the age of the Internet has changed how people express their opinions. The Internet gave everyone an opportunity to demonstrate their views in a fast and convenient manner and it is now mainly done through blogs, online forums, etc. Scientists give special attention to social media platforms such as Twitter, Facebook, Instagram or Youtube as they gained huge popularity - Facebook alone had [2.45 billion monthly active users as of the third quarter of 2019](https://www.statista.com/statistics/264810/number-of-monthly-active-facebook-users-worldwide/). It comes as no suprise that there has been a lot of work in the field of sentiment analysis of such data - especially twitter data, as they are short messages (mostly textual input) that are quite easy to scrape with Twitter API."
   ]
  },
  {
   "cell_type": "markdown",
   "metadata": {},
   "source": [
    "To perform sentiment analysis, researchers use various machine learning algorithms. Vishal A. Kharde and S.S. Sonawane (2016) [1] performed a survey of techniques applied specifically to sentiment analysis of twitter data. They concluded that:\n",
    ">Research results show that machine learning methods, such as SVM and naive Bayes have the highest accuracy and can be regarded as the baseline learning methods. "
   ]
  },
  {
   "cell_type": "markdown",
   "metadata": {},
   "source": [
    "In our research, we would like to use aforementioned machine learning methods to assess how public view on American-Iranian conflict changed after eliminating Iranian commander Qasem Soleimani. Therefore, we will perform sentiment analysis of tweets gathered a few days before and after the death of Qasem Soleimani. In orderd to do that, firstly we will train our models on annotated twitter dataset provided by Crowdflower. Then we will apply best performing model on our dataset and present the results. "
   ]
  },
  {
   "cell_type": "markdown",
   "metadata": {},
   "source": [
    "## Methodology"
   ]
  },
  {
   "cell_type": "markdown",
   "metadata": {},
   "source": [
    "### Support Vector Machine (SVM)"
   ]
  },
  {
   "cell_type": "markdown",
   "metadata": {},
   "source": [
    "Support vector machine is *non probabilistic algorithm which is used to separate data linearly and nonlinearly. The goal of SVM is to separate negative and positive training example by finding n-1 hyper plane.*[3]\n",
    "\n",
    "In our study, we will use sklearn Python package to apply SVM to our problem.\n",
    "\n",
    "An important issue in case of SVM is the choice of the kernel. Kernel allows to use a linear classifier to solve a non-linear problem. In our research, we will firstly check which kernel is the best for our dataset and will later apply it.\n",
    "\n",
    "We will also use grid search with 5 fold Cross-Validation to find best parameters of C, which regulates the our margin. In this case we will use unigrams as our independent variable."
   ]
  },
  {
   "cell_type": "markdown",
   "metadata": {},
   "source": [
    "### Naïve Bayes"
   ]
  },
  {
   "cell_type": "markdown",
   "metadata": {},
   "source": [
    "Algorithm for Naïve Bayes is well described by Kavya Suppala, Narasinga Rao (2019) [2]:"
   ]
  },
  {
   "cell_type": "markdown",
   "metadata": {},
   "source": [
    "> 1. Consider a training data set D consists of documents which belongs to different classes say class A and B.\n",
    "2. Prior probability of both classes A and B is calculated as shown:\n",
    "<br>Class A=number of objects of class A / total number of objects.\n",
    "<br>Class B=number of objects of class B / total number of objects.\n",
    "3. Now calculate the total number of word frequencies of both classes A and B i.e., $n_i$\n",
    "<br>$n_a$ = the total number of word frequency of class A.\n",
    "<br>$n_b$ = the total number of word  frequency of class B.\n",
    "4. Calculate the conditional probability of keyword occurrence for given class:\n",
    "<br>P(word1 / class A) = wordcount / $n_i$(A)\n",
    "<br>P(word1 / class B) = wordcount / $n_i$(B)\n",
    "<br>P(word2 / class A) = wordcount / $n_i$(A)\n",
    "<br>P(word2 / class B) = wordcount / $n_i$ (B)\n",
    "<br>...\n",
    "<br>...\n",
    "<br>P(wordn / class B) = wordcount / ni (B)\n",
    "5. Uniform distributions are to be performed in order to avoid zero frequency problem.\n",
    "6. Now a new document M is classified based on calculating the probability for both classes A and B P (M/W).\n",
    "<br>a) Find P(A / W) = P(A) * P(word1/class A)* P(word2/class A)……* P(wordn / class A).\n",
    "<br>b) Find P(B / W) = P(B) * P(word1/class B)*P(word2/class B)……* P(wordn / class B).\n",
    "7. After calculating probability for both classes A and B the class with higher probability is the one the new document M assigned."
   ]
  },
  {
   "cell_type": "markdown",
   "metadata": {},
   "source": [
    "In our research, to train and classify using Naïve Bayes Machine Learning technique, we used the Python sklearn library. It is worth noticing that we used Naïve Bayes classifier on IF-IDF (term frequency–inverse document frequency) vectorized matrix."
   ]
  },
  {
   "cell_type": "markdown",
   "metadata": {},
   "source": [
    "### Assessing the performance of models"
   ]
  },
  {
   "cell_type": "markdown",
   "metadata": {},
   "source": [
    "All used performance measures are built into [sk-learn package](https://scikit-learn.org/stable/index.html).\n",
    "\n",
    "1. **Accuracy**\n",
    "\n",
    "Accuracy is one of the most widely used metric for evaluating classification models. Accuracy has the following definition:\n",
    "\n",
    "$Accuracy = \\frac{Number\\ of\\ correct\\ predictions}{Total\\ number\\ of\\ predictions}$\n",
    "\n",
    "\n",
    "2. **Average Precision**\t\n",
    "\n",
    "Intuitively, precision is the ability of the classifier not to label as positive a negative sample. The formula for precision is as follows:\n",
    "\n",
    "$Precision = \\frac{Number\\ of\\ true\\ positives}{Number\\ of\\ true\\ positives+Number\\ of\\ false\\ positives}$\n",
    "\n",
    "\n",
    "3. **Average Recall**\n",
    "\n",
    "Intuitively, recall is the ability of the classifier to find all the positive samples. It has the following definition:\n",
    "\n",
    "$Recall = \\frac{Number\\ of\\ true\\ positives}{Number\\ of\\ true\\ positives + Number\\ of\\ false\\ negatives}$\n",
    "\n",
    "\n",
    "4. **F-measure**\n",
    "\n",
    "F-measure, called also F1 score, is a weighted average of the precision and recall. The best value of F1 is 1 and the worst is 0. The formula for F-measure is as follows:\n",
    "\n",
    "$F1 = \\frac{2*(precition*recall)}{precision+recall}$\n",
    "\n"
   ]
  },
  {
   "cell_type": "markdown",
   "metadata": {},
   "source": [
    "### Choosing emotion levels - Circumplex Model of Affect"
   ]
  },
  {
   "cell_type": "markdown",
   "metadata": {},
   "source": [
    "Some of the emotions do not seem to be significanlty different than the others. Therefore, to simplify analysis we will use Circumplex Model of Affect [4] classify presented emotions into 4 groups. This classification will be done manually. We will also try to employ WorldNet synonyms to this task. \n",
    "\n",
    "The groups and the emotions bounded to it can be clearly visualised with the plot beneath (source: [5])\n",
    "\n",
    "<img src=\"circumplex_model.png\">\n",
    "\n",
    "Therefore, we can distinguish 5 basic levels (classes):\n",
    "\n",
    "* Happy-Active\n",
    "* Happy-Inactive\n",
    "* Unhappy-Active\n",
    "* Unhappy-Inactive\n",
    "* Neutral\n"
   ]
  },
  {
   "cell_type": "markdown",
   "metadata": {},
   "source": [
    "## Annotated Dataset"
   ]
  },
  {
   "cell_type": "code",
   "execution_count": 7,
   "metadata": {},
   "outputs": [],
   "source": [
    "import pandas as pd\n",
    "from sklearn.model_selection import train_test_split\n",
    "import matplotlib.pyplot\n",
    "import datetime as dt\n",
    "%matplotlib inline"
   ]
  },
  {
   "cell_type": "code",
   "execution_count": 8,
   "metadata": {},
   "outputs": [],
   "source": [
    "annotated_df = pd.read_csv(\"text_emotion.csv\")\n",
    "annotated_df.drop(columns = [\"tweet_id\", \"author\"], inplace = True)"
   ]
  },
  {
   "cell_type": "markdown",
   "metadata": {},
   "source": [
    "For the purpose of our analysis we will use Crowdflower (The Emotion in Text dataset by CrowdFlower). It is based on 40000 manually annotated tweets, where the annotators were labeling every tweet with the most suitable emotion for it. These emotions are:"
   ]
  },
  {
   "cell_type": "code",
   "execution_count": 9,
   "metadata": {},
   "outputs": [
    {
     "name": "stdout",
     "output_type": "stream",
     "text": [
      "AxesSubplot(0.125,0.125;0.775x0.755)\n"
     ]
    },
    {
     "data": {
      "image/png": "[encoded data removed]",
      "text/plain": [
       "<Figure size 720x432 with 1 Axes>"
      ]
     },
     "metadata": {
      "needs_background": "light"
     },
     "output_type": "display_data"
    }
   ],
   "source": [
    "emotions_count = annotated_df.groupby(\"sentiment\").count().sort_values(\"content\", ascending = False).iloc[:,0]\n",
    "\n",
    "plt = emotions_count.plot.bar(rot=45, color='tab:blue')\n",
    "plt.set_title('Count of established emotions in tweets from Crowdflower', fontsize=12, loc=\"left\", pad=10)\n",
    "plt.get_yaxis().set_major_formatter(matplotlib.ticker.FuncFormatter(lambda x, p: format(int(x), \",\")))\n",
    "fig = matplotlib.pyplot.gcf()\n",
    "fig.set_size_inches(10, 6)\n",
    "print(plt)"
   ]
  },
  {
   "cell_type": "markdown",
   "metadata": {},
   "source": [
    "### Dependent Variable (sentiment) - Engineering"
   ]
  },
  {
   "attachments": {},
   "cell_type": "markdown",
   "metadata": {},
   "source": [
    "As mentioned before, we decided to group emotions into 4 classes. This classification has been done manually. We have tried to employ WorldNet synonyms to this task, however it did not perform well. \n",
    "\n",
    "Our classification of emotions is following:\n",
    "\n",
    "* Happy-Active: love, surprise, enthusiasm\n",
    "* Happy-Inactive: happiness, relief, fun\n",
    "* Unhappy-Active: worry, hate, anger\n",
    "* Unhappy-Inactive: sadness, empty, boredom\n",
    "\n"
   ]
  },
  {
   "cell_type": "code",
   "execution_count": 10,
   "metadata": {},
   "outputs": [],
   "source": [
    "emotions = {\n",
    "    \"Happy-Active\":[\"love\", \"surprise\", \"enthusiasm\"],\n",
    "    \"Happy-Inactive\":[\"happiness\", \"relief\", \"fun\"], \n",
    "    \"Unhappy-Active\":[\"worry\", \"hate\", \"anger\"],\n",
    "    \"Unhappy-Inactive\":[\"sadness\", \"empty\", \"boredom\"]\n",
    "}"
   ]
  },
  {
   "cell_type": "markdown",
   "metadata": {},
   "source": [
    "Now let's modify our dataset so to have only 4 levels of dependent variable + neutral value which can't be classified anywhere"
   ]
  },
  {
   "cell_type": "code",
   "execution_count": 11,
   "metadata": {
    "scrolled": false
   },
   "outputs": [
    {
     "name": "stdout",
     "output_type": "stream",
     "text": [
      "AxesSubplot(0.125,0.125;0.775x0.755)\n"
     ]
    },
    {
     "data": {
      "image/png": "[encoded data removed]",
      "text/plain": [
       "<Figure size 720x432 with 1 Axes>"
      ]
     },
     "metadata": {
      "needs_background": "light"
     },
     "output_type": "display_data"
    }
   ],
   "source": [
    "emotions_to_map = {}\n",
    "\n",
    "for key in emotions.keys():\n",
    "    for word in emotions[key]:\n",
    "        emotions_to_map[word] = key\n",
    "        \n",
    "annotated_df[\"sentiment\"] = annotated_df[\"sentiment\"].map(emotions_to_map).fillna(\"Neutral\")\n",
    "\n",
    "plt = annotated_df.groupby(\"sentiment\").count().sort_values(\"content\", ascending = False).iloc[:,0].plot.bar(rot=45, color='tab:blue')\n",
    "plt.set_title('Count of groupped emotions in tweets from Crowdflower', fontsize=12, loc=\"left\", pad=10)\n",
    "plt.get_yaxis().set_major_formatter(matplotlib.ticker.FuncFormatter(lambda x, p: format(int(x), \",\")))\n",
    "fig = matplotlib.pyplot.gcf()\n",
    "fig.set_size_inches(10, 6)\n",
    "print(plt)"
   ]
  },
  {
   "cell_type": "code",
   "execution_count": 12,
   "metadata": {},
   "outputs": [],
   "source": [
    "### Formatting dependent variable as category\n",
    "annotated_df[\"sentiment\"] = annotated_df[\"sentiment\"].astype(\"category\")"
   ]
  },
  {
   "cell_type": "markdown",
   "metadata": {},
   "source": [
    "### Preparation of Tweet Content"
   ]
  },
  {
   "cell_type": "markdown",
   "metadata": {},
   "source": [
    "To make tweets' content useful for our analysis we have to introduce some data preparation. First to exclude features which will not bring any valuable information to our analysis and second to make the computational process lighter. "
   ]
  },
  {
   "cell_type": "code",
   "execution_count": 16,
   "metadata": {},
   "outputs": [],
   "source": [
    "import re"
   ]
  },
  {
   "cell_type": "markdown",
   "metadata": {},
   "source": [
    "#### Removing @user - Name tags"
   ]
  },
  {
   "cell_type": "markdown",
   "metadata": {},
   "source": [
    "In tweet one can tag other user with @user to make sure someone will notice the tweet or to reply to someone's opinion. Anyway, the name of the user itself is not a thing which will bring us better classification quality, it's not really a word feature. Therefore we will remove it."
   ]
  },
  {
   "cell_type": "code",
   "execution_count": 13,
   "metadata": {},
   "outputs": [],
   "source": [
    "def remove_tags(text):\n",
    "    text = re.sub('@\\w+',\"\", text)\n",
    "    return text"
   ]
  },
  {
   "cell_type": "markdown",
   "metadata": {},
   "source": [
    "#### Removing urls"
   ]
  },
  {
   "cell_type": "markdown",
   "metadata": {},
   "source": [
    "Next we will exclude urls for similar reasons as in case of user tags."
   ]
  },
  {
   "cell_type": "code",
   "execution_count": 21,
   "metadata": {},
   "outputs": [],
   "source": [
    "def link_remover(text):\n",
    "    text = re.sub(r'http\\S+',\"\", text)\n",
    "    return text"
   ]
  },
  {
   "cell_type": "markdown",
   "metadata": {},
   "source": [
    "#### Dealing with Emoticons"
   ]
  },
  {
   "cell_type": "markdown",
   "metadata": {},
   "source": [
    "Emoticons are the important part of internet based language. Obviously they can tell us a lot about the sentiment of the text. In case of tweets this impact is even bigger due to the fact that the number of characters in tweets is limited, therefore use of emoticons allows users to hand on as many emotions as it is possible. Actually, there are some scientific works where potential of emoticons in area of sentiment detection is utilized for automatic annotation of tweets as positive and negative to create a huge training dataset in a short time [6]. However the serious issue with the Crowdflower dataset is that it does not contain tweets in standard twitter coding (it can be check using code below)."
   ]
  },
  {
   "cell_type": "code",
   "execution_count": 14,
   "metadata": {},
   "outputs": [],
   "source": [
    "def emoji_finder(text):\n",
    "    emoji_list = re.findall(\"[^\\u0000-\\uFFFF]|\\u2764\", text)\n",
    "    \n",
    "    if len(emoji_list) == 0:\n",
    "        return None\n",
    "    else:\n",
    "        emojis = \" \".join(emoji_list)\n",
    "        return emojis"
   ]
  },
  {
   "cell_type": "code",
   "execution_count": 17,
   "metadata": {},
   "outputs": [
    {
     "data": {
      "text/plain": [
       "[None]"
      ]
     },
     "execution_count": 17,
     "metadata": {},
     "output_type": "execute_result"
    }
   ],
   "source": [
    "list(set(annotated_df[\"content\"].apply(lambda text: emoji_finder(text))))"
   ]
  },
  {
   "cell_type": "markdown",
   "metadata": {},
   "source": [
    "It is hard to state in what way the emoticons were actually encoded, because there is no paper regarding this matter. Therefore we decided to pass by. After all preprocessing steps it will be only words which are supposed to be left in dataset, that is why there is no need identify emoticons encoding. However, it has to be indicated that this issue is a serious limitation. "
   ]
  },
  {
   "cell_type": "markdown",
   "metadata": {},
   "source": [
    "#### Removing Hashes from Hashtags"
   ]
  },
  {
   "cell_type": "markdown",
   "metadata": {},
   "source": [
    "Hashtags being in some way the topic of the tweet may carry important information, therefore we decided to keep the hashtag words but without hashtag specific \"#\""
   ]
  },
  {
   "cell_type": "code",
   "execution_count": 23,
   "metadata": {},
   "outputs": [],
   "source": [
    "def hashtag_extractor(text):\n",
    "    text = text.replace(\"#\", \"\")\n",
    "    return text"
   ]
  },
  {
   "cell_type": "markdown",
   "metadata": {},
   "source": [
    "#### Keeping only words"
   ]
  },
  {
   "cell_type": "markdown",
   "metadata": {},
   "source": [
    "We do not expect punctuations or numbers to bring us valuable information but these are actual characters which may increase computational complexity. That is why we will keep only words"
   ]
  },
  {
   "cell_type": "code",
   "execution_count": 25,
   "metadata": {},
   "outputs": [],
   "source": [
    "def keep_words_only(text):\n",
    "    words_list = re.findall(\"\\w+\", text)\n",
    "    return words_list"
   ]
  },
  {
   "cell_type": "markdown",
   "metadata": {},
   "source": [
    "#### Removing stopwords"
   ]
  },
  {
   "cell_type": "markdown",
   "metadata": {},
   "source": [
    "To simplify dataset we will also remove stopwords. To achieve this goal we will use pre-built stopowrds list from NLTK package. However it is not always obvious that removing stopwords will improve the performance of the model. The good example for this comes directly from this dataset.  \n",
    "\n",
    "* Sentence with stopwords: We want to trade with someone who has Houston tickets\n",
    "* Sentence without stopwords: We want trade someone Houston \n",
    "\n",
    "The first sentence is clearly a normal sentence, no one would worry about. However the second one sounds like some kind of human-trafficking advert. Having in mind that is not so difficult to thing about another similar examples where stopwords make a huge difference, we will keep also version of tweet without this step applied. "
   ]
  },
  {
   "cell_type": "code",
   "execution_count": 26,
   "metadata": {},
   "outputs": [
    {
     "name": "stdout",
     "output_type": "stream",
     "text": [
      "[nltk_data] Downloading package stopwords to\n",
      "[nltk_data]     C:\\Users\\xx\\AppData\\Roaming\\nltk_data...\n",
      "[nltk_data]   Package stopwords is already up-to-date!\n"
     ]
    }
   ],
   "source": [
    "import nltk\n",
    "nltk.download('stopwords')\n",
    "\n",
    "from nltk.corpus import stopwords \n",
    "stop_words = set(stopwords.words('english'))\n",
    "\n",
    "def remove_stopwords(text, stop_words):\n",
    "    text = [word for word in text if word not in stop_words]\n",
    "    return text"
   ]
  },
  {
   "cell_type": "markdown",
   "metadata": {},
   "source": [
    "#### Joined function"
   ]
  },
  {
   "cell_type": "code",
   "execution_count": 18,
   "metadata": {},
   "outputs": [],
   "source": [
    "def cleaner_nostop(text):\n",
    "    text = remove_tags(text)\n",
    "    text = link_remover(text)\n",
    "    text = hashtag_extractor(text)\n",
    "    text = keep_words_only(text)\n",
    "    text = remove_stopwords(text, stop_words)\n",
    "    text = [word.lower() for word in text]\n",
    "    \n",
    "    return text"
   ]
  },
  {
   "cell_type": "code",
   "execution_count": 19,
   "metadata": {},
   "outputs": [],
   "source": [
    "def cleaner_withstop(text):\n",
    "    text = remove_tags(text)\n",
    "    text = link_remover(text)\n",
    "    text = hashtag_extractor(text)\n",
    "    text = keep_words_only(text)\n",
    "    text = [word.lower() for word in text]\n",
    "    \n",
    "    return text"
   ]
  },
  {
   "cell_type": "code",
   "execution_count": 27,
   "metadata": {},
   "outputs": [],
   "source": [
    "annotated_df[\"Content_Cleaned_noStop\"] = annotated_df[\"content\"].apply(lambda text: cleaner_nostop(text))\n",
    "annotated_df[\"Content_Cleaned_withStop\"] = annotated_df[\"content\"].apply(lambda text: cleaner_withstop(text))"
   ]
  },
  {
   "cell_type": "markdown",
   "metadata": {},
   "source": [
    "#### Lemmatization"
   ]
  },
  {
   "cell_type": "markdown",
   "metadata": {},
   "source": [
    "Having our content cleaned as the last step we will introduce lemmatization. We will produce two additional columns with lemmas. It is because however the lemmatization will limit the number of words and the computational complexity we cannot be sure that it will not decrease the quality of data and classification"
   ]
  },
  {
   "cell_type": "code",
   "execution_count": 42,
   "metadata": {},
   "outputs": [],
   "source": [
    "from nltk.stem import WordNetLemmatizer\n",
    "lemmatizer = WordNetLemmatizer()\n",
    "\n",
    "def get_lemma(text):\n",
    "    text = [lemmatizer.lemmatize(word) for word in text]\n",
    "    return text\n"
   ]
  },
  {
   "cell_type": "code",
   "execution_count": 43,
   "metadata": {},
   "outputs": [],
   "source": [
    "annotated_df[\"Content_Cleaned_noStop_Lemma\"] = annotated_df[\"Content_Cleaned_noStop\"].apply(lambda text: get_lemma(text))\n",
    "annotated_df[\"Content_Cleaned_withStop_Lemma\"] = annotated_df[\"Content_Cleaned_withStop\"].apply(lambda text: get_lemma(text))"
   ]
  },
  {
   "cell_type": "markdown",
   "metadata": {},
   "source": [
    "Finally, let's have a look at the CrowdFlower dataset after all data preparation:"
   ]
  },
  {
   "cell_type": "code",
   "execution_count": 28,
   "metadata": {},
   "outputs": [
    {
     "data": {
      "text/html": [
       "<div>\n",
       "<style scoped>\n",
       "    .dataframe tbody tr th:only-of-type {\n",
       "        vertical-align: middle;\n",
       "    }\n",
       "\n",
       "    .dataframe tbody tr th {\n",
       "        vertical-align: top;\n",
       "    }\n",
       "\n",
       "    .dataframe thead th {\n",
       "        text-align: right;\n",
       "    }\n",
       "</style>\n",
       "<table border=\"1\" class=\"dataframe\">\n",
       "  <thead>\n",
       "    <tr style=\"text-align: right;\">\n",
       "      <th></th>\n",
       "      <th>sentiment</th>\n",
       "      <th>content</th>\n",
       "      <th>Content_Cleaned_noStop</th>\n",
       "      <th>Content_Cleaned_withStop</th>\n",
       "    </tr>\n",
       "  </thead>\n",
       "  <tbody>\n",
       "    <tr>\n",
       "      <th>0</th>\n",
       "      <td>Unhappy-Inactive</td>\n",
       "      <td>@tiffanylue i know  i was listenin to bad habi...</td>\n",
       "      <td>[know, listenin, bad, habit, earlier, started,...</td>\n",
       "      <td>[i, know, i, was, listenin, to, bad, habit, ea...</td>\n",
       "    </tr>\n",
       "    <tr>\n",
       "      <th>1</th>\n",
       "      <td>Unhappy-Inactive</td>\n",
       "      <td>Layin n bed with a headache  ughhhh...waitin o...</td>\n",
       "      <td>[layin, n, bed, headache, ughhhh, waitin, call]</td>\n",
       "      <td>[layin, n, bed, with, a, headache, ughhhh, wai...</td>\n",
       "    </tr>\n",
       "    <tr>\n",
       "      <th>2</th>\n",
       "      <td>Unhappy-Inactive</td>\n",
       "      <td>Funeral ceremony...gloomy friday...</td>\n",
       "      <td>[funeral, ceremony, gloomy, friday]</td>\n",
       "      <td>[funeral, ceremony, gloomy, friday]</td>\n",
       "    </tr>\n",
       "    <tr>\n",
       "      <th>3</th>\n",
       "      <td>Happy-Active</td>\n",
       "      <td>wants to hang out with friends SOON!</td>\n",
       "      <td>[wants, hang, friends, soon]</td>\n",
       "      <td>[wants, to, hang, out, with, friends, soon]</td>\n",
       "    </tr>\n",
       "    <tr>\n",
       "      <th>4</th>\n",
       "      <td>Neutral</td>\n",
       "      <td>@dannycastillo We want to trade with someone w...</td>\n",
       "      <td>[we, want, trade, someone, houston, tickets, one]</td>\n",
       "      <td>[we, want, to, trade, with, someone, who, has,...</td>\n",
       "    </tr>\n",
       "    <tr>\n",
       "      <th>5</th>\n",
       "      <td>Unhappy-Active</td>\n",
       "      <td>Re-pinging @ghostridah14: why didn't you go to...</td>\n",
       "      <td>[re, pinging, go, prom, bc, bf, like, friends]</td>\n",
       "      <td>[re, pinging, why, didn, t, you, go, to, prom,...</td>\n",
       "    </tr>\n",
       "    <tr>\n",
       "      <th>6</th>\n",
       "      <td>Unhappy-Inactive</td>\n",
       "      <td>I should be sleep, but im not! thinking about ...</td>\n",
       "      <td>[i, sleep, im, thinking, old, friend, i, want,...</td>\n",
       "      <td>[i, should, be, sleep, but, im, not, thinking,...</td>\n",
       "    </tr>\n",
       "    <tr>\n",
       "      <th>7</th>\n",
       "      <td>Unhappy-Active</td>\n",
       "      <td>Hmmm. http://www.djhero.com/ is down</td>\n",
       "      <td>[hmmm]</td>\n",
       "      <td>[hmmm, is, down]</td>\n",
       "    </tr>\n",
       "    <tr>\n",
       "      <th>8</th>\n",
       "      <td>Unhappy-Inactive</td>\n",
       "      <td>@charviray Charlene my love. I miss you</td>\n",
       "      <td>[charlene, love, i, miss]</td>\n",
       "      <td>[charlene, my, love, i, miss, you]</td>\n",
       "    </tr>\n",
       "    <tr>\n",
       "      <th>9</th>\n",
       "      <td>Unhappy-Inactive</td>\n",
       "      <td>@kelcouch I'm sorry  at least it's Friday?</td>\n",
       "      <td>[i, sorry, least, friday]</td>\n",
       "      <td>[i, m, sorry, at, least, it, s, friday]</td>\n",
       "    </tr>\n",
       "  </tbody>\n",
       "</table>\n",
       "</div>"
      ],
      "text/plain": [
       "          sentiment                                            content  \\\n",
       "0  Unhappy-Inactive  @tiffanylue i know  i was listenin to bad habi...   \n",
       "1  Unhappy-Inactive  Layin n bed with a headache  ughhhh...waitin o...   \n",
       "2  Unhappy-Inactive                Funeral ceremony...gloomy friday...   \n",
       "3      Happy-Active               wants to hang out with friends SOON!   \n",
       "4           Neutral  @dannycastillo We want to trade with someone w...   \n",
       "5    Unhappy-Active  Re-pinging @ghostridah14: why didn't you go to...   \n",
       "6  Unhappy-Inactive  I should be sleep, but im not! thinking about ...   \n",
       "7    Unhappy-Active               Hmmm. http://www.djhero.com/ is down   \n",
       "8  Unhappy-Inactive            @charviray Charlene my love. I miss you   \n",
       "9  Unhappy-Inactive         @kelcouch I'm sorry  at least it's Friday?   \n",
       "\n",
       "                              Content_Cleaned_noStop  \\\n",
       "0  [know, listenin, bad, habit, earlier, started,...   \n",
       "1    [layin, n, bed, headache, ughhhh, waitin, call]   \n",
       "2                [funeral, ceremony, gloomy, friday]   \n",
       "3                       [wants, hang, friends, soon]   \n",
       "4  [we, want, trade, someone, houston, tickets, one]   \n",
       "5     [re, pinging, go, prom, bc, bf, like, friends]   \n",
       "6  [i, sleep, im, thinking, old, friend, i, want,...   \n",
       "7                                             [hmmm]   \n",
       "8                          [charlene, love, i, miss]   \n",
       "9                          [i, sorry, least, friday]   \n",
       "\n",
       "                            Content_Cleaned_withStop  \n",
       "0  [i, know, i, was, listenin, to, bad, habit, ea...  \n",
       "1  [layin, n, bed, with, a, headache, ughhhh, wai...  \n",
       "2                [funeral, ceremony, gloomy, friday]  \n",
       "3        [wants, to, hang, out, with, friends, soon]  \n",
       "4  [we, want, to, trade, with, someone, who, has,...  \n",
       "5  [re, pinging, why, didn, t, you, go, to, prom,...  \n",
       "6  [i, should, be, sleep, but, im, not, thinking,...  \n",
       "7                                   [hmmm, is, down]  \n",
       "8                 [charlene, my, love, i, miss, you]  \n",
       "9            [i, m, sorry, at, least, it, s, friday]  "
      ]
     },
     "execution_count": 28,
     "metadata": {},
     "output_type": "execute_result"
    }
   ],
   "source": [
    "annotated_df.head(10)"
   ]
  },
  {
   "cell_type": "markdown",
   "metadata": {},
   "source": [
    "## Classifier building"
   ]
  },
  {
   "cell_type": "markdown",
   "metadata": {},
   "source": [
    "### SVM"
   ]
  },
  {
   "cell_type": "markdown",
   "metadata": {},
   "source": [
    "As it was shown in previous chapter, where we prepared data for analysis we have 4 slightly different types of tweet contents which will be used to create our model. At first we will use SVM approach which is widely used in building sentiment classifiers. We use linear kernel, because after simple tests we found out that it outperforms other kernels. We use grid search with 5 fold Cross-Validation to find best parameters of C, which regulates the our margin. In this case we use unigrams as our X.  "
   ]
  },
  {
   "cell_type": "code",
   "execution_count": 55,
   "metadata": {},
   "outputs": [],
   "source": [
    "from sklearn.feature_extraction.text import CountVectorizer\n",
    "from sklearn.model_selection import cross_val_score, GridSearchCV\n",
    "from sklearn.svm import SVC \n",
    "from sklearn.metrics import classification_report\n",
    "from sklearn.model_selection import train_test_split\n",
    "cv = CountVectorizer()\n",
    "\n",
    "train, test = train_test_split(annotated_df, test_size = 0.3, random_state = 0)\n",
    "\n",
    "def find_best_SVM(content_type, train, test):\n",
    "    \n",
    "    print(content_type)\n",
    "    #### Creating x and a from train and test datasets \n",
    "    train_x = train[content_type]\n",
    "    train_y = train[\"sentiment\"]\n",
    "\n",
    "    test_x = test[content_type]\n",
    "    test_y = test[\"sentiment\"]\n",
    "    \n",
    "    #### Converting sets to have a format understood by vectorizer\n",
    "    train_x = [\" \".join(word_list) for word_list in train_x]\n",
    "    test_x = [\" \".join(word_list) for word_list in test_x]\n",
    "    \n",
    "    \n",
    "    #### Vectorizing \n",
    "    cv.fit(train_x)\n",
    "    X_train = cv.transform(train_x)\n",
    "    X_test = cv.transform(test_x)\n",
    "    \n",
    "    print(\"Dimensions of train set: \", X_train.shape)\n",
    "    print(\"Dimensions of test set: \", X_test.shape)\n",
    "    \n",
    "    \n",
    "    #### Defining parameters for GridSearch\n",
    "    params_grid = [{'kernel': ['linear'], 'C': [0.01, 0.05, 0.1, 0.2, 0.5, 0.75, 1]}]\n",
    "    \n",
    "    #### Running Model\n",
    "    svm_model = GridSearchCV(SVC(), params_grid, cv = 5)\n",
    "    svm_model.fit(X_train, train_y)\n",
    "    \n",
    "    #### Statistics\n",
    "    final_model = svm_model.best_estimator_\n",
    "    svm_predictions = final_model.predict(X_test)\n",
    "    accuracy = final_model.score(X_test, test_y)\n",
    "    accuracy_org = final_model.score(X_train, train_y)\n",
    "    \n",
    "    class_report = classification_report(test_y, svm_predictions, output_dict=True)\n",
    "    \n",
    "    return({\"final_model\": final_model, \"accuracy\": accuracy, \n",
    "            \"accuracy_train\": accuracy_org, \"class_report\": class_report})\n",
    "    "
   ]
  },
  {
   "cell_type": "code",
   "execution_count": 212,
   "metadata": {
    "scrolled": false
   },
   "outputs": [
    {
     "name": "stdout",
     "output_type": "stream",
     "text": [
      "Content_Cleaned_noStop\n",
      "Dimensions of train set:  (28000, 24523)\n",
      "Dimensions of test set:  (12000, 24523)\n",
      "Content_Cleaned_withStop\n",
      "Dimensions of train set:  (28000, 24538)\n",
      "Dimensions of test set:  (12000, 24538)\n",
      "Content_Cleaned_noStop_Lemma\n",
      "Dimensions of train set:  (28000, 22560)\n",
      "Dimensions of test set:  (12000, 22560)\n",
      "Content_Cleaned_withStop_Lemma\n",
      "Dimensions of train set:  (28000, 22575)\n",
      "Dimensions of test set:  (12000, 22575)\n"
     ]
    }
   ],
   "source": [
    "models = {}\n",
    "for content_type in list(annotated_df.columns[2:]):\n",
    "    models[content_type] = find_best_SVM(content_type, train, test)"
   ]
  },
  {
   "cell_type": "markdown",
   "metadata": {},
   "source": [
    "#### Results of SVM approach"
   ]
  },
  {
   "cell_type": "markdown",
   "metadata": {},
   "source": [
    "After running all of the models (which took about 2.5h) we ended up knowing that in all cases the best C value = 0.1. Let's see how it has gone with other measures and which type of input brought us the best results."
   ]
  },
  {
   "cell_type": "markdown",
   "metadata": {},
   "source": [
    "##### Accuracy"
   ]
  },
  {
   "cell_type": "markdown",
   "metadata": {},
   "source": [
    "In the area of accuracy we can observe that the best result for test dataset was obtained with model based on Lemmatized words with stopwords. What has to be said the differences in result are really low and the performence of models, especially on Test data is rather poor - 41 % of accuracy in the best case is disapponiting. \n",
    "\n",
    "The best case of accuracy for train data is obtained with model based on not lemmatized words with stopwords. It is equal to 55%.  "
   ]
  },
  {
   "cell_type": "code",
   "execution_count": 298,
   "metadata": {
    "scrolled": true
   },
   "outputs": [],
   "source": [
    "def accuracy(models):\n",
    "    acc_list = []\n",
    "    for content in models.keys():\n",
    "        acc_list.append((content, models[content][\"accuracy\"], models[content][\"accuracy_train\"]))\n",
    "\n",
    "    svm_acc_df = pd.DataFrame(acc_list, columns = [\"Content_Type\", \"Accuracy_Test\", \"Accuracy_Train\"])\n",
    "    return(svm_acc_df.sort_values(\"Accuracy_Test\", ascending = False))"
   ]
  },
  {
   "cell_type": "code",
   "execution_count": 299,
   "metadata": {},
   "outputs": [
    {
     "data": {
      "text/html": [
       "<div>\n",
       "<style scoped>\n",
       "    .dataframe tbody tr th:only-of-type {\n",
       "        vertical-align: middle;\n",
       "    }\n",
       "\n",
       "    .dataframe tbody tr th {\n",
       "        vertical-align: top;\n",
       "    }\n",
       "\n",
       "    .dataframe thead th {\n",
       "        text-align: right;\n",
       "    }\n",
       "</style>\n",
       "<table border=\"1\" class=\"dataframe\">\n",
       "  <thead>\n",
       "    <tr style=\"text-align: right;\">\n",
       "      <th></th>\n",
       "      <th>Content_Type</th>\n",
       "      <th>Accuracy_Test</th>\n",
       "      <th>Accuracy_Train</th>\n",
       "    </tr>\n",
       "  </thead>\n",
       "  <tbody>\n",
       "    <tr>\n",
       "      <th>3</th>\n",
       "      <td>Content_Cleaned_withStop_Lemma</td>\n",
       "      <td>0.409000</td>\n",
       "      <td>0.544893</td>\n",
       "    </tr>\n",
       "    <tr>\n",
       "      <th>1</th>\n",
       "      <td>Content_Cleaned_withStop</td>\n",
       "      <td>0.408833</td>\n",
       "      <td>0.550500</td>\n",
       "    </tr>\n",
       "    <tr>\n",
       "      <th>2</th>\n",
       "      <td>Content_Cleaned_noStop_Lemma</td>\n",
       "      <td>0.405833</td>\n",
       "      <td>0.531107</td>\n",
       "    </tr>\n",
       "    <tr>\n",
       "      <th>0</th>\n",
       "      <td>Content_Cleaned_noStop</td>\n",
       "      <td>0.405000</td>\n",
       "      <td>0.539607</td>\n",
       "    </tr>\n",
       "  </tbody>\n",
       "</table>\n",
       "</div>"
      ],
      "text/plain": [
       "                     Content_Type  Accuracy_Test  Accuracy_Train\n",
       "3  Content_Cleaned_withStop_Lemma       0.409000        0.544893\n",
       "1        Content_Cleaned_withStop       0.408833        0.550500\n",
       "2    Content_Cleaned_noStop_Lemma       0.405833        0.531107\n",
       "0          Content_Cleaned_noStop       0.405000        0.539607"
      ]
     },
     "execution_count": 299,
     "metadata": {},
     "output_type": "execute_result"
    }
   ],
   "source": [
    "accuracy(models)"
   ]
  },
  {
   "cell_type": "markdown",
   "metadata": {},
   "source": [
    "##### Other measures"
   ]
  },
  {
   "cell_type": "code",
   "execution_count": 301,
   "metadata": {},
   "outputs": [],
   "source": [
    "def other_stats(models):\n",
    "    other_stats = []\n",
    "    for content in models.keys():\n",
    "        other_stats.append([content] + list(models[content][\"class_report\"][\"weighted avg\"].values())[:-1])\n",
    "\n",
    "    svm_oth_stats = pd.DataFrame(other_stats, columns = [\"Content_Type\", \"Avg_Precision\", \"Avg_Recall\", \"Avg_F1\"])\n",
    "    return(svm_oth_stats.sort_values(\"Avg_Precision\", ascending = False))"
   ]
  },
  {
   "cell_type": "code",
   "execution_count": 302,
   "metadata": {
    "scrolled": false
   },
   "outputs": [
    {
     "data": {
      "text/html": [
       "<div>\n",
       "<style scoped>\n",
       "    .dataframe tbody tr th:only-of-type {\n",
       "        vertical-align: middle;\n",
       "    }\n",
       "\n",
       "    .dataframe tbody tr th {\n",
       "        vertical-align: top;\n",
       "    }\n",
       "\n",
       "    .dataframe thead th {\n",
       "        text-align: right;\n",
       "    }\n",
       "</style>\n",
       "<table border=\"1\" class=\"dataframe\">\n",
       "  <thead>\n",
       "    <tr style=\"text-align: right;\">\n",
       "      <th></th>\n",
       "      <th>Content_Type</th>\n",
       "      <th>Avg_Precision</th>\n",
       "      <th>Avg_Recall</th>\n",
       "      <th>Avg_F1</th>\n",
       "    </tr>\n",
       "  </thead>\n",
       "  <tbody>\n",
       "    <tr>\n",
       "      <th>2</th>\n",
       "      <td>Content_Cleaned_noStop_Lemma</td>\n",
       "      <td>0.424720</td>\n",
       "      <td>0.405833</td>\n",
       "      <td>0.391804</td>\n",
       "    </tr>\n",
       "    <tr>\n",
       "      <th>0</th>\n",
       "      <td>Content_Cleaned_noStop</td>\n",
       "      <td>0.421746</td>\n",
       "      <td>0.405000</td>\n",
       "      <td>0.391161</td>\n",
       "    </tr>\n",
       "    <tr>\n",
       "      <th>1</th>\n",
       "      <td>Content_Cleaned_withStop</td>\n",
       "      <td>0.421650</td>\n",
       "      <td>0.408833</td>\n",
       "      <td>0.395326</td>\n",
       "    </tr>\n",
       "    <tr>\n",
       "      <th>3</th>\n",
       "      <td>Content_Cleaned_withStop_Lemma</td>\n",
       "      <td>0.420075</td>\n",
       "      <td>0.409000</td>\n",
       "      <td>0.394976</td>\n",
       "    </tr>\n",
       "  </tbody>\n",
       "</table>\n",
       "</div>"
      ],
      "text/plain": [
       "                     Content_Type  Avg_Precision  Avg_Recall    Avg_F1\n",
       "2    Content_Cleaned_noStop_Lemma       0.424720    0.405833  0.391804\n",
       "0          Content_Cleaned_noStop       0.421746    0.405000  0.391161\n",
       "1        Content_Cleaned_withStop       0.421650    0.408833  0.395326\n",
       "3  Content_Cleaned_withStop_Lemma       0.420075    0.409000  0.394976"
      ]
     },
     "execution_count": 302,
     "metadata": {},
     "output_type": "execute_result"
    }
   ],
   "source": [
    "other_stats(models)"
   ]
  },
  {
   "cell_type": "markdown",
   "metadata": {},
   "source": [
    "As it can be seen there are no special differences between presented stats of avereged values. They are all rather unsatisfying. However some interesting observation can be made on the F1 score of sentiments for all models which is shown in the table below."
   ]
  },
  {
   "cell_type": "code",
   "execution_count": 303,
   "metadata": {},
   "outputs": [],
   "source": [
    "def f1_sentiments(models):\n",
    "    f1_sentiments = []\n",
    "    for content in models.keys():\n",
    "        f1_sentiments.append((content,\n",
    "                             models[content][\"class_report\"][\"Happy-Active\"][\"f1-score\"],\n",
    "                             models[content][\"class_report\"][\"Happy-Inactive\"][\"f1-score\"],\n",
    "                             models[content][\"class_report\"][\"Neutral\"][\"f1-score\"],\n",
    "                             models[content][\"class_report\"][\"Unhappy-Active\"][\"f1-score\"],\n",
    "                             models[content][\"class_report\"][\"Unhappy-Inactive\"][\"f1-score\"]))\n",
    "\n",
    "    return(pd.DataFrame(f1_sentiments, columns = [\"Content_Type\", \"Happy-Active\", \"Happy-Inactive\",\n",
    "                                          \"Neutral\", \"Unhappy-Active\", \"Unhappy-Inactive\"]))"
   ]
  },
  {
   "cell_type": "code",
   "execution_count": 304,
   "metadata": {},
   "outputs": [
    {
     "data": {
      "text/html": [
       "<div>\n",
       "<style scoped>\n",
       "    .dataframe tbody tr th:only-of-type {\n",
       "        vertical-align: middle;\n",
       "    }\n",
       "\n",
       "    .dataframe tbody tr th {\n",
       "        vertical-align: top;\n",
       "    }\n",
       "\n",
       "    .dataframe thead th {\n",
       "        text-align: right;\n",
       "    }\n",
       "</style>\n",
       "<table border=\"1\" class=\"dataframe\">\n",
       "  <thead>\n",
       "    <tr style=\"text-align: right;\">\n",
       "      <th></th>\n",
       "      <th>Content_Type</th>\n",
       "      <th>Happy-Active</th>\n",
       "      <th>Happy-Inactive</th>\n",
       "      <th>Neutral</th>\n",
       "      <th>Unhappy-Active</th>\n",
       "      <th>Unhappy-Inactive</th>\n",
       "    </tr>\n",
       "  </thead>\n",
       "  <tbody>\n",
       "    <tr>\n",
       "      <th>0</th>\n",
       "      <td>Content_Cleaned_noStop</td>\n",
       "      <td>0.344232</td>\n",
       "      <td>0.450141</td>\n",
       "      <td>0.439110</td>\n",
       "      <td>0.429882</td>\n",
       "      <td>0.231826</td>\n",
       "    </tr>\n",
       "    <tr>\n",
       "      <th>1</th>\n",
       "      <td>Content_Cleaned_withStop</td>\n",
       "      <td>0.341359</td>\n",
       "      <td>0.451872</td>\n",
       "      <td>0.443511</td>\n",
       "      <td>0.439683</td>\n",
       "      <td>0.238284</td>\n",
       "    </tr>\n",
       "    <tr>\n",
       "      <th>2</th>\n",
       "      <td>Content_Cleaned_noStop_Lemma</td>\n",
       "      <td>0.346700</td>\n",
       "      <td>0.449127</td>\n",
       "      <td>0.441045</td>\n",
       "      <td>0.429671</td>\n",
       "      <td>0.232274</td>\n",
       "    </tr>\n",
       "    <tr>\n",
       "      <th>3</th>\n",
       "      <td>Content_Cleaned_withStop_Lemma</td>\n",
       "      <td>0.339128</td>\n",
       "      <td>0.454145</td>\n",
       "      <td>0.444244</td>\n",
       "      <td>0.441809</td>\n",
       "      <td>0.230952</td>\n",
       "    </tr>\n",
       "  </tbody>\n",
       "</table>\n",
       "</div>"
      ],
      "text/plain": [
       "                     Content_Type  Happy-Active  Happy-Inactive   Neutral  \\\n",
       "0          Content_Cleaned_noStop      0.344232        0.450141  0.439110   \n",
       "1        Content_Cleaned_withStop      0.341359        0.451872  0.443511   \n",
       "2    Content_Cleaned_noStop_Lemma      0.346700        0.449127  0.441045   \n",
       "3  Content_Cleaned_withStop_Lemma      0.339128        0.454145  0.444244   \n",
       "\n",
       "   Unhappy-Active  Unhappy-Inactive  \n",
       "0        0.429882          0.231826  \n",
       "1        0.439683          0.238284  \n",
       "2        0.429671          0.232274  \n",
       "3        0.441809          0.230952  "
      ]
     },
     "execution_count": 304,
     "metadata": {},
     "output_type": "execute_result"
    }
   ],
   "source": [
    "f1_sentiments(models)"
   ]
  },
  {
   "cell_type": "markdown",
   "metadata": {},
   "source": [
    "The F1 score is not impressive in all of the cases, however it is definetely the worst for Unhappy-Inactive case. If other approaches will bring us similary not satisfying results we can consider grouping Unhappy variables into one to increase performence of models."
   ]
  },
  {
   "cell_type": "markdown",
   "metadata": {},
   "source": [
    "### Naive-Bayes"
   ]
  },
  {
   "cell_type": "markdown",
   "metadata": {},
   "source": [
    "The SVM algorithm did not perform really well on our dataset. Therefore we will try another widely used algorithm in area of sentiment analysis which is Naive-Bayes. Here we will slightly modify approach and use TF-IDF vectorizer instead of standard unigrams."
   ]
  },
  {
   "cell_type": "code",
   "execution_count": 272,
   "metadata": {},
   "outputs": [],
   "source": [
    "from sklearn.pipeline import Pipeline\n",
    "from sklearn.naive_bayes import MultinomialNB\n",
    "from sklearn.feature_extraction.text import TfidfVectorizer\n",
    "\n",
    "def find_best_NaiveBayes(content, train, test):\n",
    "    \n",
    "    print(content)\n",
    "    #### Creating x and a from train and test datasets \n",
    "    train_x = train[content_type]\n",
    "    train_y = train[\"sentiment\"]\n",
    "\n",
    "    test_x = test[content_type]\n",
    "    test_y = test[\"sentiment\"]\n",
    "    \n",
    "    #### Converting sets to have a format understood by vectorizer\n",
    "    train_x = [\" \".join(word_list) for word_list in train_x]\n",
    "    test_x = [\" \".join(word_list) for word_list in test_x]\n",
    "    \n",
    "    # Create feature vectors\n",
    "    vectorizer = TfidfVectorizer(min_df = 5,\n",
    "                             max_df = 0.8,\n",
    "                             sublinear_tf = True,\n",
    "                             norm = \"l1\",\n",
    "                             use_idf = True)\n",
    "\n",
    "    X_train = vectorizer.fit_transform(train_x)\n",
    "    X_test = vectorizer.transform(test_x)\n",
    "\n",
    "\n",
    "    text_clf = Pipeline([('clf', MultinomialNB())])\n",
    "\n",
    "    tuned_parameters = {\n",
    "    \n",
    "        'clf__alpha': [1, 1e-1, 1e-2]\n",
    "    }\n",
    "\n",
    "    bayes = GridSearchCV(text_clf, tuned_parameters, cv = 5)\n",
    "    bayes.fit(X_train, train_y)\n",
    "    \n",
    "    best_bayes = bayes.best_estimator_\n",
    "    bayes_predictions = best_bayes.predict(X_test)\n",
    "    accuracy = best_bayes.score(X_test, test_y)\n",
    "    accuracy_org = best_bayes.score(X_train, train_y)\n",
    "    \n",
    "    class_report = classification_report(test_y, bayes_predictions, output_dict=True)\n",
    "    \n",
    "    return({\"final_model\": best_bayes, \"accuracy\": accuracy, \n",
    "            \"accuracy_train\": accuracy_org, \"class_report\": class_report})"
   ]
  },
  {
   "cell_type": "code",
   "execution_count": 273,
   "metadata": {},
   "outputs": [
    {
     "name": "stdout",
     "output_type": "stream",
     "text": [
      "Content_Cleaned_noStop\n",
      "Content_Cleaned_withStop\n",
      "Content_Cleaned_noStop_Lemma\n",
      "Content_Cleaned_withStop_Lemma\n"
     ]
    }
   ],
   "source": [
    "models_bayes = {}\n",
    "for content_type in list(annotated_df.columns[2:]):\n",
    "    models_bayes[content_type] = find_best_NaiveBayes(content_type, train, test)"
   ]
  },
  {
   "cell_type": "markdown",
   "metadata": {},
   "source": [
    "Calculation of Naive-Bayes models were almost instant. Which is a huge difference in comparison with SVM which took more than 2 hours. Let's see how Naive-Bayes models have performed."
   ]
  },
  {
   "cell_type": "markdown",
   "metadata": {},
   "source": [
    "##### Accuracy"
   ]
  },
  {
   "cell_type": "code",
   "execution_count": 305,
   "metadata": {},
   "outputs": [
    {
     "data": {
      "text/html": [
       "<div>\n",
       "<style scoped>\n",
       "    .dataframe tbody tr th:only-of-type {\n",
       "        vertical-align: middle;\n",
       "    }\n",
       "\n",
       "    .dataframe tbody tr th {\n",
       "        vertical-align: top;\n",
       "    }\n",
       "\n",
       "    .dataframe thead th {\n",
       "        text-align: right;\n",
       "    }\n",
       "</style>\n",
       "<table border=\"1\" class=\"dataframe\">\n",
       "  <thead>\n",
       "    <tr style=\"text-align: right;\">\n",
       "      <th></th>\n",
       "      <th>Content_Type</th>\n",
       "      <th>Accuracy_Test</th>\n",
       "      <th>Accuracy_Train</th>\n",
       "    </tr>\n",
       "  </thead>\n",
       "  <tbody>\n",
       "    <tr>\n",
       "      <th>0</th>\n",
       "      <td>Content_Cleaned_noStop</td>\n",
       "      <td>0.352333</td>\n",
       "      <td>0.489143</td>\n",
       "    </tr>\n",
       "    <tr>\n",
       "      <th>1</th>\n",
       "      <td>Content_Cleaned_withStop</td>\n",
       "      <td>0.350083</td>\n",
       "      <td>0.462321</td>\n",
       "    </tr>\n",
       "    <tr>\n",
       "      <th>2</th>\n",
       "      <td>Content_Cleaned_noStop_Lemma</td>\n",
       "      <td>0.348917</td>\n",
       "      <td>0.484321</td>\n",
       "    </tr>\n",
       "    <tr>\n",
       "      <th>3</th>\n",
       "      <td>Content_Cleaned_withStop_Lemma</td>\n",
       "      <td>0.348167</td>\n",
       "      <td>0.457714</td>\n",
       "    </tr>\n",
       "  </tbody>\n",
       "</table>\n",
       "</div>"
      ],
      "text/plain": [
       "                     Content_Type  Accuracy_Test  Accuracy_Train\n",
       "0          Content_Cleaned_noStop       0.352333        0.489143\n",
       "1        Content_Cleaned_withStop       0.350083        0.462321\n",
       "2    Content_Cleaned_noStop_Lemma       0.348917        0.484321\n",
       "3  Content_Cleaned_withStop_Lemma       0.348167        0.457714"
      ]
     },
     "execution_count": 305,
     "metadata": {},
     "output_type": "execute_result"
    }
   ],
   "source": [
    "accuracy(models_bayes)"
   ]
  },
  {
   "cell_type": "markdown",
   "metadata": {},
   "source": [
    "The performance of models, especially in area of test data, is clearly worse than in case of SVM. "
   ]
  },
  {
   "cell_type": "markdown",
   "metadata": {},
   "source": [
    "##### Other stats"
   ]
  },
  {
   "cell_type": "code",
   "execution_count": 306,
   "metadata": {
    "scrolled": true
   },
   "outputs": [
    {
     "data": {
      "text/html": [
       "<div>\n",
       "<style scoped>\n",
       "    .dataframe tbody tr th:only-of-type {\n",
       "        vertical-align: middle;\n",
       "    }\n",
       "\n",
       "    .dataframe tbody tr th {\n",
       "        vertical-align: top;\n",
       "    }\n",
       "\n",
       "    .dataframe thead th {\n",
       "        text-align: right;\n",
       "    }\n",
       "</style>\n",
       "<table border=\"1\" class=\"dataframe\">\n",
       "  <thead>\n",
       "    <tr style=\"text-align: right;\">\n",
       "      <th></th>\n",
       "      <th>Content_Type</th>\n",
       "      <th>Avg_Precision</th>\n",
       "      <th>Avg_Recall</th>\n",
       "      <th>Avg_F1</th>\n",
       "    </tr>\n",
       "  </thead>\n",
       "  <tbody>\n",
       "    <tr>\n",
       "      <th>1</th>\n",
       "      <td>Content_Cleaned_withStop</td>\n",
       "      <td>0.384493</td>\n",
       "      <td>0.350083</td>\n",
       "      <td>0.298583</td>\n",
       "    </tr>\n",
       "    <tr>\n",
       "      <th>3</th>\n",
       "      <td>Content_Cleaned_withStop_Lemma</td>\n",
       "      <td>0.381383</td>\n",
       "      <td>0.348167</td>\n",
       "      <td>0.296289</td>\n",
       "    </tr>\n",
       "    <tr>\n",
       "      <th>0</th>\n",
       "      <td>Content_Cleaned_noStop</td>\n",
       "      <td>0.369080</td>\n",
       "      <td>0.352333</td>\n",
       "      <td>0.313417</td>\n",
       "    </tr>\n",
       "    <tr>\n",
       "      <th>2</th>\n",
       "      <td>Content_Cleaned_noStop_Lemma</td>\n",
       "      <td>0.365067</td>\n",
       "      <td>0.348917</td>\n",
       "      <td>0.309759</td>\n",
       "    </tr>\n",
       "  </tbody>\n",
       "</table>\n",
       "</div>"
      ],
      "text/plain": [
       "                     Content_Type  Avg_Precision  Avg_Recall    Avg_F1\n",
       "1        Content_Cleaned_withStop       0.384493    0.350083  0.298583\n",
       "3  Content_Cleaned_withStop_Lemma       0.381383    0.348167  0.296289\n",
       "0          Content_Cleaned_noStop       0.369080    0.352333  0.313417\n",
       "2    Content_Cleaned_noStop_Lemma       0.365067    0.348917  0.309759"
      ]
     },
     "execution_count": 306,
     "metadata": {},
     "output_type": "execute_result"
    }
   ],
   "source": [
    "other_stats(models_bayes)"
   ]
  },
  {
   "cell_type": "code",
   "execution_count": 313,
   "metadata": {},
   "outputs": [
    {
     "data": {
      "text/html": [
       "<div>\n",
       "<style scoped>\n",
       "    .dataframe tbody tr th:only-of-type {\n",
       "        vertical-align: middle;\n",
       "    }\n",
       "\n",
       "    .dataframe tbody tr th {\n",
       "        vertical-align: top;\n",
       "    }\n",
       "\n",
       "    .dataframe thead th {\n",
       "        text-align: right;\n",
       "    }\n",
       "</style>\n",
       "<table border=\"1\" class=\"dataframe\">\n",
       "  <thead>\n",
       "    <tr style=\"text-align: right;\">\n",
       "      <th></th>\n",
       "      <th>Content_Type</th>\n",
       "      <th>Happy-Active</th>\n",
       "      <th>Happy-Inactive</th>\n",
       "      <th>Neutral</th>\n",
       "      <th>Unhappy-Active</th>\n",
       "      <th>Unhappy-Inactive</th>\n",
       "    </tr>\n",
       "  </thead>\n",
       "  <tbody>\n",
       "    <tr>\n",
       "      <th>0</th>\n",
       "      <td>Content_Cleaned_noStop</td>\n",
       "      <td>0.242938</td>\n",
       "      <td>0.399690</td>\n",
       "      <td>0.300166</td>\n",
       "      <td>0.449742</td>\n",
       "      <td>0.078770</td>\n",
       "    </tr>\n",
       "    <tr>\n",
       "      <th>1</th>\n",
       "      <td>Content_Cleaned_withStop</td>\n",
       "      <td>0.222901</td>\n",
       "      <td>0.402611</td>\n",
       "      <td>0.272582</td>\n",
       "      <td>0.451708</td>\n",
       "      <td>0.036810</td>\n",
       "    </tr>\n",
       "    <tr>\n",
       "      <th>2</th>\n",
       "      <td>Content_Cleaned_noStop_Lemma</td>\n",
       "      <td>0.234330</td>\n",
       "      <td>0.391633</td>\n",
       "      <td>0.299046</td>\n",
       "      <td>0.447954</td>\n",
       "      <td>0.080383</td>\n",
       "    </tr>\n",
       "    <tr>\n",
       "      <th>3</th>\n",
       "      <td>Content_Cleaned_withStop_Lemma</td>\n",
       "      <td>0.216237</td>\n",
       "      <td>0.400163</td>\n",
       "      <td>0.273430</td>\n",
       "      <td>0.449620</td>\n",
       "      <td>0.034800</td>\n",
       "    </tr>\n",
       "  </tbody>\n",
       "</table>\n",
       "</div>"
      ],
      "text/plain": [
       "                     Content_Type  Happy-Active  Happy-Inactive   Neutral  \\\n",
       "0          Content_Cleaned_noStop      0.242938        0.399690  0.300166   \n",
       "1        Content_Cleaned_withStop      0.222901        0.402611  0.272582   \n",
       "2    Content_Cleaned_noStop_Lemma      0.234330        0.391633  0.299046   \n",
       "3  Content_Cleaned_withStop_Lemma      0.216237        0.400163  0.273430   \n",
       "\n",
       "   Unhappy-Active  Unhappy-Inactive  \n",
       "0        0.449742          0.078770  \n",
       "1        0.451708          0.036810  \n",
       "2        0.447954          0.080383  \n",
       "3        0.449620          0.034800  "
      ]
     },
     "execution_count": 313,
     "metadata": {},
     "output_type": "execute_result"
    }
   ],
   "source": [
    "f1_sentiments(models_bayes)"
   ]
  },
  {
   "cell_type": "markdown",
   "metadata": {},
   "source": [
    "All the stats of Naive-Bayes are much worse than in case of SVM. However again we can capture pattern that F1 score fo Unhappy-Inactive class is significantly worse than other statistics. Therefore the decision has been made to group unhappy classes into one and try SVM and Bayes again."
   ]
  },
  {
   "cell_type": "markdown",
   "metadata": {},
   "source": [
    "## Models on modified CrowdFlower Dataset"
   ]
  },
  {
   "cell_type": "code",
   "execution_count": 47,
   "metadata": {},
   "outputs": [],
   "source": [
    "modified_annotated_df = annotated_df.copy()\n",
    "modified_annotated_df[\"sentiment\"] = modified_annotated_df[\"sentiment\"].apply(lambda x: \"Unhappy\" if x in [\"Unhappy-Active\", \"Unhappy-Inactive\"] else x)\n",
    "modified_annotated_df[\"sentiment\"] = modified_annotated_df[\"sentiment\"].astype(\"category\")"
   ]
  },
  {
   "cell_type": "code",
   "execution_count": 48,
   "metadata": {},
   "outputs": [],
   "source": [
    "train, test = train_test_split(modified_annotated_df, test_size = 0.3, random_state = 0)"
   ]
  },
  {
   "cell_type": "markdown",
   "metadata": {},
   "source": [
    "### SVM"
   ]
  },
  {
   "cell_type": "code",
   "execution_count": 293,
   "metadata": {},
   "outputs": [
    {
     "name": "stdout",
     "output_type": "stream",
     "text": [
      "Content_Cleaned_noStop\n",
      "Dimensions of train set:  (28000, 24549)\n",
      "Dimensions of test set:  (12000, 24549)\n",
      "Content_Cleaned_withStop\n",
      "Dimensions of train set:  (28000, 24566)\n",
      "Dimensions of test set:  (12000, 24566)\n",
      "Content_Cleaned_noStop_Lemma\n",
      "Dimensions of train set:  (28000, 22552)\n",
      "Dimensions of test set:  (12000, 22552)\n",
      "Content_Cleaned_withStop_Lemma\n",
      "Dimensions of train set:  (28000, 22569)\n",
      "Dimensions of test set:  (12000, 22569)\n"
     ]
    }
   ],
   "source": [
    "models_svm_modDf = {}\n",
    "\n",
    "for content_type in list(modified_annotated_df.columns[2:]):\n",
    "    models_svm_modDf[content_type] = find_best_SVM(content_type, train, test)"
   ]
  },
  {
   "cell_type": "code",
   "execution_count": 308,
   "metadata": {
    "scrolled": true
   },
   "outputs": [
    {
     "data": {
      "text/html": [
       "<div>\n",
       "<style scoped>\n",
       "    .dataframe tbody tr th:only-of-type {\n",
       "        vertical-align: middle;\n",
       "    }\n",
       "\n",
       "    .dataframe tbody tr th {\n",
       "        vertical-align: top;\n",
       "    }\n",
       "\n",
       "    .dataframe thead th {\n",
       "        text-align: right;\n",
       "    }\n",
       "</style>\n",
       "<table border=\"1\" class=\"dataframe\">\n",
       "  <thead>\n",
       "    <tr style=\"text-align: right;\">\n",
       "      <th></th>\n",
       "      <th>Content_Type</th>\n",
       "      <th>Accuracy_Test</th>\n",
       "      <th>Accuracy_Train</th>\n",
       "    </tr>\n",
       "  </thead>\n",
       "  <tbody>\n",
       "    <tr>\n",
       "      <th>3</th>\n",
       "      <td>Content_Cleaned_withStop_Lemma</td>\n",
       "      <td>0.517167</td>\n",
       "      <td>0.625607</td>\n",
       "    </tr>\n",
       "    <tr>\n",
       "      <th>1</th>\n",
       "      <td>Content_Cleaned_withStop</td>\n",
       "      <td>0.516167</td>\n",
       "      <td>0.631500</td>\n",
       "    </tr>\n",
       "    <tr>\n",
       "      <th>2</th>\n",
       "      <td>Content_Cleaned_noStop_Lemma</td>\n",
       "      <td>0.505250</td>\n",
       "      <td>0.677071</td>\n",
       "    </tr>\n",
       "    <tr>\n",
       "      <th>0</th>\n",
       "      <td>Content_Cleaned_noStop</td>\n",
       "      <td>0.504583</td>\n",
       "      <td>0.686786</td>\n",
       "    </tr>\n",
       "  </tbody>\n",
       "</table>\n",
       "</div>"
      ],
      "text/plain": [
       "                     Content_Type  Accuracy_Test  Accuracy_Train\n",
       "3  Content_Cleaned_withStop_Lemma       0.517167        0.625607\n",
       "1        Content_Cleaned_withStop       0.516167        0.631500\n",
       "2    Content_Cleaned_noStop_Lemma       0.505250        0.677071\n",
       "0          Content_Cleaned_noStop       0.504583        0.686786"
      ]
     },
     "execution_count": 308,
     "metadata": {},
     "output_type": "execute_result"
    }
   ],
   "source": [
    "accuracy(models_svm_modDf)"
   ]
  },
  {
   "cell_type": "code",
   "execution_count": 309,
   "metadata": {
    "scrolled": false
   },
   "outputs": [
    {
     "data": {
      "text/html": [
       "<div>\n",
       "<style scoped>\n",
       "    .dataframe tbody tr th:only-of-type {\n",
       "        vertical-align: middle;\n",
       "    }\n",
       "\n",
       "    .dataframe tbody tr th {\n",
       "        vertical-align: top;\n",
       "    }\n",
       "\n",
       "    .dataframe thead th {\n",
       "        text-align: right;\n",
       "    }\n",
       "</style>\n",
       "<table border=\"1\" class=\"dataframe\">\n",
       "  <thead>\n",
       "    <tr style=\"text-align: right;\">\n",
       "      <th></th>\n",
       "      <th>Content_Type</th>\n",
       "      <th>Avg_Precision</th>\n",
       "      <th>Avg_Recall</th>\n",
       "      <th>Avg_F1</th>\n",
       "    </tr>\n",
       "  </thead>\n",
       "  <tbody>\n",
       "    <tr>\n",
       "      <th>3</th>\n",
       "      <td>Content_Cleaned_withStop_Lemma</td>\n",
       "      <td>0.507720</td>\n",
       "      <td>0.517167</td>\n",
       "      <td>0.499640</td>\n",
       "    </tr>\n",
       "    <tr>\n",
       "      <th>1</th>\n",
       "      <td>Content_Cleaned_withStop</td>\n",
       "      <td>0.505501</td>\n",
       "      <td>0.516167</td>\n",
       "      <td>0.497116</td>\n",
       "    </tr>\n",
       "    <tr>\n",
       "      <th>2</th>\n",
       "      <td>Content_Cleaned_noStop_Lemma</td>\n",
       "      <td>0.495445</td>\n",
       "      <td>0.505250</td>\n",
       "      <td>0.490986</td>\n",
       "    </tr>\n",
       "    <tr>\n",
       "      <th>0</th>\n",
       "      <td>Content_Cleaned_noStop</td>\n",
       "      <td>0.493061</td>\n",
       "      <td>0.504583</td>\n",
       "      <td>0.489162</td>\n",
       "    </tr>\n",
       "  </tbody>\n",
       "</table>\n",
       "</div>"
      ],
      "text/plain": [
       "                     Content_Type  Avg_Precision  Avg_Recall    Avg_F1\n",
       "3  Content_Cleaned_withStop_Lemma       0.507720    0.517167  0.499640\n",
       "1        Content_Cleaned_withStop       0.505501    0.516167  0.497116\n",
       "2    Content_Cleaned_noStop_Lemma       0.495445    0.505250  0.490986\n",
       "0          Content_Cleaned_noStop       0.493061    0.504583  0.489162"
      ]
     },
     "execution_count": 309,
     "metadata": {},
     "output_type": "execute_result"
    }
   ],
   "source": [
    "other_stats(models_svm_modDf)"
   ]
  },
  {
   "cell_type": "code",
   "execution_count": 314,
   "metadata": {},
   "outputs": [],
   "source": [
    "def f1_sentiments_mod(models):\n",
    "    f1_sentiments = []\n",
    "    for content in models.keys():\n",
    "        f1_sentiments.append((content,\n",
    "                             models[content][\"class_report\"][\"Happy-Active\"][\"f1-score\"],\n",
    "                             models[content][\"class_report\"][\"Happy-Inactive\"][\"f1-score\"],\n",
    "                             models[content][\"class_report\"][\"Neutral\"][\"f1-score\"],\n",
    "                             models[content][\"class_report\"][\"Unhappy\"][\"f1-score\"]\n",
    "                             ))\n",
    "\n",
    "    return(pd.DataFrame(f1_sentiments, columns = [\"Content_Type\", \"Happy-Active\", \"Happy-Inactive\",\n",
    "                                          \"Neutral\", \"Unhappy\"]))"
   ]
  },
  {
   "cell_type": "code",
   "execution_count": 315,
   "metadata": {
    "scrolled": true
   },
   "outputs": [
    {
     "data": {
      "text/html": [
       "<div>\n",
       "<style scoped>\n",
       "    .dataframe tbody tr th:only-of-type {\n",
       "        vertical-align: middle;\n",
       "    }\n",
       "\n",
       "    .dataframe tbody tr th {\n",
       "        vertical-align: top;\n",
       "    }\n",
       "\n",
       "    .dataframe thead th {\n",
       "        text-align: right;\n",
       "    }\n",
       "</style>\n",
       "<table border=\"1\" class=\"dataframe\">\n",
       "  <thead>\n",
       "    <tr style=\"text-align: right;\">\n",
       "      <th></th>\n",
       "      <th>Content_Type</th>\n",
       "      <th>Happy-Active</th>\n",
       "      <th>Happy-Inactive</th>\n",
       "      <th>Neutral</th>\n",
       "      <th>Unhappy</th>\n",
       "    </tr>\n",
       "  </thead>\n",
       "  <tbody>\n",
       "    <tr>\n",
       "      <th>0</th>\n",
       "      <td>Content_Cleaned_noStop</td>\n",
       "      <td>0.358006</td>\n",
       "      <td>0.435441</td>\n",
       "      <td>0.363673</td>\n",
       "      <td>0.642413</td>\n",
       "    </tr>\n",
       "    <tr>\n",
       "      <th>1</th>\n",
       "      <td>Content_Cleaned_withStop</td>\n",
       "      <td>0.353168</td>\n",
       "      <td>0.440299</td>\n",
       "      <td>0.377956</td>\n",
       "      <td>0.654052</td>\n",
       "    </tr>\n",
       "    <tr>\n",
       "      <th>2</th>\n",
       "      <td>Content_Cleaned_noStop_Lemma</td>\n",
       "      <td>0.359963</td>\n",
       "      <td>0.440588</td>\n",
       "      <td>0.371463</td>\n",
       "      <td>0.639183</td>\n",
       "    </tr>\n",
       "    <tr>\n",
       "      <th>3</th>\n",
       "      <td>Content_Cleaned_withStop_Lemma</td>\n",
       "      <td>0.353509</td>\n",
       "      <td>0.442316</td>\n",
       "      <td>0.386028</td>\n",
       "      <td>0.654755</td>\n",
       "    </tr>\n",
       "  </tbody>\n",
       "</table>\n",
       "</div>"
      ],
      "text/plain": [
       "                     Content_Type  Happy-Active  Happy-Inactive   Neutral  \\\n",
       "0          Content_Cleaned_noStop      0.358006        0.435441  0.363673   \n",
       "1        Content_Cleaned_withStop      0.353168        0.440299  0.377956   \n",
       "2    Content_Cleaned_noStop_Lemma      0.359963        0.440588  0.371463   \n",
       "3  Content_Cleaned_withStop_Lemma      0.353509        0.442316  0.386028   \n",
       "\n",
       "    Unhappy  \n",
       "0  0.642413  \n",
       "1  0.654052  \n",
       "2  0.639183  \n",
       "3  0.654755  "
      ]
     },
     "execution_count": 315,
     "metadata": {},
     "output_type": "execute_result"
    }
   ],
   "source": [
    "f1_sentiments_mod(models_svm_modDf)"
   ]
  },
  {
   "cell_type": "markdown",
   "metadata": {},
   "source": [
    "### Naive-Bayes"
   ]
  },
  {
   "cell_type": "code",
   "execution_count": 317,
   "metadata": {},
   "outputs": [
    {
     "name": "stdout",
     "output_type": "stream",
     "text": [
      "Content_Cleaned_noStop\n",
      "Content_Cleaned_withStop\n",
      "Content_Cleaned_noStop_Lemma\n",
      "Content_Cleaned_withStop_Lemma\n"
     ]
    }
   ],
   "source": [
    "models_bayes_modDf = {}\n",
    "for content_type in list(annotated_df.columns[2:]):\n",
    "    models_bayes_modDf[content_type] = find_best_NaiveBayes(content_type, train, test)"
   ]
  },
  {
   "cell_type": "code",
   "execution_count": 318,
   "metadata": {
    "scrolled": false
   },
   "outputs": [
    {
     "data": {
      "text/html": [
       "<div>\n",
       "<style scoped>\n",
       "    .dataframe tbody tr th:only-of-type {\n",
       "        vertical-align: middle;\n",
       "    }\n",
       "\n",
       "    .dataframe tbody tr th {\n",
       "        vertical-align: top;\n",
       "    }\n",
       "\n",
       "    .dataframe thead th {\n",
       "        text-align: right;\n",
       "    }\n",
       "</style>\n",
       "<table border=\"1\" class=\"dataframe\">\n",
       "  <thead>\n",
       "    <tr style=\"text-align: right;\">\n",
       "      <th></th>\n",
       "      <th>Content_Type</th>\n",
       "      <th>Accuracy_Test</th>\n",
       "      <th>Accuracy_Train</th>\n",
       "    </tr>\n",
       "  </thead>\n",
       "  <tbody>\n",
       "    <tr>\n",
       "      <th>2</th>\n",
       "      <td>Content_Cleaned_noStop_Lemma</td>\n",
       "      <td>0.445833</td>\n",
       "      <td>0.510393</td>\n",
       "    </tr>\n",
       "    <tr>\n",
       "      <th>0</th>\n",
       "      <td>Content_Cleaned_noStop</td>\n",
       "      <td>0.445750</td>\n",
       "      <td>0.514607</td>\n",
       "    </tr>\n",
       "    <tr>\n",
       "      <th>1</th>\n",
       "      <td>Content_Cleaned_withStop</td>\n",
       "      <td>0.435833</td>\n",
       "      <td>0.480857</td>\n",
       "    </tr>\n",
       "    <tr>\n",
       "      <th>3</th>\n",
       "      <td>Content_Cleaned_withStop_Lemma</td>\n",
       "      <td>0.434417</td>\n",
       "      <td>0.477750</td>\n",
       "    </tr>\n",
       "  </tbody>\n",
       "</table>\n",
       "</div>"
      ],
      "text/plain": [
       "                     Content_Type  Accuracy_Test  Accuracy_Train\n",
       "2    Content_Cleaned_noStop_Lemma       0.445833        0.510393\n",
       "0          Content_Cleaned_noStop       0.445750        0.514607\n",
       "1        Content_Cleaned_withStop       0.435833        0.480857\n",
       "3  Content_Cleaned_withStop_Lemma       0.434417        0.477750"
      ]
     },
     "execution_count": 318,
     "metadata": {},
     "output_type": "execute_result"
    }
   ],
   "source": [
    "accuracy(models_bayes_modDf)"
   ]
  },
  {
   "cell_type": "code",
   "execution_count": 352,
   "metadata": {
    "scrolled": true
   },
   "outputs": [
    {
     "data": {
      "text/html": [
       "<div>\n",
       "<style scoped>\n",
       "    .dataframe tbody tr th:only-of-type {\n",
       "        vertical-align: middle;\n",
       "    }\n",
       "\n",
       "    .dataframe tbody tr th {\n",
       "        vertical-align: top;\n",
       "    }\n",
       "\n",
       "    .dataframe thead th {\n",
       "        text-align: right;\n",
       "    }\n",
       "</style>\n",
       "<table border=\"1\" class=\"dataframe\">\n",
       "  <thead>\n",
       "    <tr style=\"text-align: right;\">\n",
       "      <th></th>\n",
       "      <th>Content_Type</th>\n",
       "      <th>Avg_Precision</th>\n",
       "      <th>Avg_Recall</th>\n",
       "      <th>Avg_F1</th>\n",
       "    </tr>\n",
       "  </thead>\n",
       "  <tbody>\n",
       "    <tr>\n",
       "      <th>1</th>\n",
       "      <td>Content_Cleaned_withStop</td>\n",
       "      <td>0.451200</td>\n",
       "      <td>0.435833</td>\n",
       "      <td>0.319106</td>\n",
       "    </tr>\n",
       "    <tr>\n",
       "      <th>3</th>\n",
       "      <td>Content_Cleaned_withStop_Lemma</td>\n",
       "      <td>0.447204</td>\n",
       "      <td>0.434417</td>\n",
       "      <td>0.316414</td>\n",
       "    </tr>\n",
       "    <tr>\n",
       "      <th>2</th>\n",
       "      <td>Content_Cleaned_noStop_Lemma</td>\n",
       "      <td>0.443419</td>\n",
       "      <td>0.445833</td>\n",
       "      <td>0.349791</td>\n",
       "    </tr>\n",
       "    <tr>\n",
       "      <th>0</th>\n",
       "      <td>Content_Cleaned_noStop</td>\n",
       "      <td>0.442942</td>\n",
       "      <td>0.445750</td>\n",
       "      <td>0.350683</td>\n",
       "    </tr>\n",
       "  </tbody>\n",
       "</table>\n",
       "</div>"
      ],
      "text/plain": [
       "                     Content_Type  Avg_Precision  Avg_Recall    Avg_F1\n",
       "1        Content_Cleaned_withStop       0.451200    0.435833  0.319106\n",
       "3  Content_Cleaned_withStop_Lemma       0.447204    0.434417  0.316414\n",
       "2    Content_Cleaned_noStop_Lemma       0.443419    0.445833  0.349791\n",
       "0          Content_Cleaned_noStop       0.442942    0.445750  0.350683"
      ]
     },
     "execution_count": 352,
     "metadata": {},
     "output_type": "execute_result"
    }
   ],
   "source": [
    "other_stats(models_bayes_modDf)"
   ]
  },
  {
   "cell_type": "code",
   "execution_count": 353,
   "metadata": {},
   "outputs": [
    {
     "data": {
      "text/html": [
       "<div>\n",
       "<style scoped>\n",
       "    .dataframe tbody tr th:only-of-type {\n",
       "        vertical-align: middle;\n",
       "    }\n",
       "\n",
       "    .dataframe tbody tr th {\n",
       "        vertical-align: top;\n",
       "    }\n",
       "\n",
       "    .dataframe thead th {\n",
       "        text-align: right;\n",
       "    }\n",
       "</style>\n",
       "<table border=\"1\" class=\"dataframe\">\n",
       "  <thead>\n",
       "    <tr style=\"text-align: right;\">\n",
       "      <th></th>\n",
       "      <th>Content_Type</th>\n",
       "      <th>Happy-Active</th>\n",
       "      <th>Happy-Inactive</th>\n",
       "      <th>Neutral</th>\n",
       "      <th>Unhappy</th>\n",
       "    </tr>\n",
       "  </thead>\n",
       "  <tbody>\n",
       "    <tr>\n",
       "      <th>0</th>\n",
       "      <td>Content_Cleaned_noStop</td>\n",
       "      <td>0.175241</td>\n",
       "      <td>0.249786</td>\n",
       "      <td>0.119872</td>\n",
       "      <td>0.605251</td>\n",
       "    </tr>\n",
       "    <tr>\n",
       "      <th>1</th>\n",
       "      <td>Content_Cleaned_withStop</td>\n",
       "      <td>0.136037</td>\n",
       "      <td>0.186414</td>\n",
       "      <td>0.079338</td>\n",
       "      <td>0.598497</td>\n",
       "    </tr>\n",
       "    <tr>\n",
       "      <th>2</th>\n",
       "      <td>Content_Cleaned_noStop_Lemma</td>\n",
       "      <td>0.175382</td>\n",
       "      <td>0.247844</td>\n",
       "      <td>0.117042</td>\n",
       "      <td>0.605521</td>\n",
       "    </tr>\n",
       "    <tr>\n",
       "      <th>3</th>\n",
       "      <td>Content_Cleaned_withStop_Lemma</td>\n",
       "      <td>0.135364</td>\n",
       "      <td>0.181238</td>\n",
       "      <td>0.074560</td>\n",
       "      <td>0.597373</td>\n",
       "    </tr>\n",
       "  </tbody>\n",
       "</table>\n",
       "</div>"
      ],
      "text/plain": [
       "                     Content_Type  Happy-Active  Happy-Inactive   Neutral  \\\n",
       "0          Content_Cleaned_noStop      0.175241        0.249786  0.119872   \n",
       "1        Content_Cleaned_withStop      0.136037        0.186414  0.079338   \n",
       "2    Content_Cleaned_noStop_Lemma      0.175382        0.247844  0.117042   \n",
       "3  Content_Cleaned_withStop_Lemma      0.135364        0.181238  0.074560   \n",
       "\n",
       "    Unhappy  \n",
       "0  0.605251  \n",
       "1  0.598497  \n",
       "2  0.605521  \n",
       "3  0.597373  "
      ]
     },
     "execution_count": 353,
     "metadata": {},
     "output_type": "execute_result"
    }
   ],
   "source": [
    "f1_sentiments_mod(models_bayes_modDf)"
   ]
  },
  {
   "cell_type": "markdown",
   "metadata": {},
   "source": [
    "### Conclusion - Model Choice "
   ]
  },
  {
   "cell_type": "markdown",
   "metadata": {},
   "source": [
    "Grouping unhappy subgroups into one category brought a significant improvement for all models. However, the results still are not impresive. It is again SVM which is much more accurate and much slower than Naive-Bayes. Actually if we would compare accuracy on test data taking time into consideration it seems that Naive-Bayes might be the better choice. But if we look at accuracies on train datasets, here the supremacy of SVM is obvious. That is why SVM is our choice for further modelling. Now we only have to choose which of SVM models (and the inputs) we want to use. If we use the simplest possible measure to compare the quality of models for test and train data - average accuracy, it occurs that it is the model based on cleaned tweets without stopwords (before lemmatization). Therefore this model and this way of data cleaning is our choice for further actions."
   ]
  },
  {
   "cell_type": "code",
   "execution_count": 329,
   "metadata": {
    "scrolled": true
   },
   "outputs": [
    {
     "data": {
      "text/html": [
       "<div>\n",
       "<style scoped>\n",
       "    .dataframe tbody tr th:only-of-type {\n",
       "        vertical-align: middle;\n",
       "    }\n",
       "\n",
       "    .dataframe tbody tr th {\n",
       "        vertical-align: top;\n",
       "    }\n",
       "\n",
       "    .dataframe thead th {\n",
       "        text-align: right;\n",
       "    }\n",
       "</style>\n",
       "<table border=\"1\" class=\"dataframe\">\n",
       "  <thead>\n",
       "    <tr style=\"text-align: right;\">\n",
       "      <th></th>\n",
       "      <th>Content_Type</th>\n",
       "      <th>Accuracy_Test</th>\n",
       "      <th>Accuracy_Train</th>\n",
       "      <th>Average_Accuracy</th>\n",
       "    </tr>\n",
       "  </thead>\n",
       "  <tbody>\n",
       "    <tr>\n",
       "      <th>3</th>\n",
       "      <td>Content_Cleaned_withStop_Lemma</td>\n",
       "      <td>0.517167</td>\n",
       "      <td>0.625607</td>\n",
       "      <td>0.571387</td>\n",
       "    </tr>\n",
       "    <tr>\n",
       "      <th>1</th>\n",
       "      <td>Content_Cleaned_withStop</td>\n",
       "      <td>0.516167</td>\n",
       "      <td>0.631500</td>\n",
       "      <td>0.573833</td>\n",
       "    </tr>\n",
       "    <tr>\n",
       "      <th>2</th>\n",
       "      <td>Content_Cleaned_noStop_Lemma</td>\n",
       "      <td>0.505250</td>\n",
       "      <td>0.677071</td>\n",
       "      <td>0.591161</td>\n",
       "    </tr>\n",
       "    <tr>\n",
       "      <th>0</th>\n",
       "      <td>Content_Cleaned_noStop</td>\n",
       "      <td>0.504583</td>\n",
       "      <td>0.686786</td>\n",
       "      <td>0.595685</td>\n",
       "    </tr>\n",
       "  </tbody>\n",
       "</table>\n",
       "</div>"
      ],
      "text/plain": [
       "                     Content_Type  Accuracy_Test  Accuracy_Train  \\\n",
       "3  Content_Cleaned_withStop_Lemma       0.517167        0.625607   \n",
       "1        Content_Cleaned_withStop       0.516167        0.631500   \n",
       "2    Content_Cleaned_noStop_Lemma       0.505250        0.677071   \n",
       "0          Content_Cleaned_noStop       0.504583        0.686786   \n",
       "\n",
       "   Average_Accuracy  \n",
       "3          0.571387  \n",
       "1          0.573833  \n",
       "2          0.591161  \n",
       "0          0.595685  "
      ]
     },
     "execution_count": 329,
     "metadata": {},
     "output_type": "execute_result"
    }
   ],
   "source": [
    "df = accuracy(models_svm_modDf)\n",
    "df[\"Average_Accuracy\"] = df.apply(lambda col: (col[\"Accuracy_Test\"] + col[\"Accuracy_Train\"])/2, axis = 1)\n",
    "df"
   ]
  },
  {
   "cell_type": "code",
   "execution_count": 340,
   "metadata": {},
   "outputs": [],
   "source": [
    "# Saving models\n",
    "\n",
    "# import pickle\n",
    "# def save_model(models, group_name):\n",
    "#     for content in models.keys():\n",
    "#         filename = group_name +\"_\" + content + \".sav\"\n",
    "#         pickle.dump(models[content][\"final_model\"], open(filename, \"wb\"))\n",
    "\n",
    "# save_model(models_svm_modDf, \"svm_modified\")\n",
    "# save_model(models, \"svm_standard\")\n",
    "# save_model(models_bayes, \"bayes_standard\")\n",
    "# save_model(models_bayes_modDf, \"bayes_modified\")"
   ]
  },
  {
   "cell_type": "markdown",
   "metadata": {},
   "source": [
    "## Iran vs USA Tweet Data"
   ]
  },
  {
   "cell_type": "markdown",
   "metadata": {},
   "source": [
    "Our dataset contains tweets created from 29th of December 2019 until 7th of January 2020. We downloaded tweets with specific hashtags: \"#Iran\", \"#USA\", \"#Iraq\", \"#Trump\", \"#Soleimani\", \"#Israel\", \"#WWIII\", \"#War\" and \"#WorldWar\". We filtered out retweets."
   ]
  },
  {
   "cell_type": "code",
   "execution_count": 49,
   "metadata": {},
   "outputs": [],
   "source": [
    "import sqlite3\n",
    "import pickle\n",
    "conn = sqlite3.connect(\"IranianCrysis2.db\")\n",
    "c = conn.cursor()"
   ]
  },
  {
   "cell_type": "code",
   "execution_count": 50,
   "metadata": {},
   "outputs": [],
   "source": [
    "df = pd.read_sql_query(\"SELECT * FROM Tweets\", conn)"
   ]
  },
  {
   "cell_type": "markdown",
   "metadata": {},
   "source": [
    "### Classification of tweets content"
   ]
  },
  {
   "cell_type": "markdown",
   "metadata": {},
   "source": [
    "#### Data Preparation"
   ]
  },
  {
   "cell_type": "code",
   "execution_count": 51,
   "metadata": {},
   "outputs": [],
   "source": [
    "df_to_classify = pd.DataFrame(df.loc[:,\"tweet_text\"])"
   ]
  },
  {
   "cell_type": "code",
   "execution_count": 52,
   "metadata": {},
   "outputs": [],
   "source": [
    "df_to_classify[\"tweet_cleaned\"] = df_to_classify[\"tweet_text\"].apply(lambda text: cleaner_nostop(text))"
   ]
  },
  {
   "cell_type": "markdown",
   "metadata": {},
   "source": [
    "#### Classification part"
   ]
  },
  {
   "cell_type": "code",
   "execution_count": 53,
   "metadata": {},
   "outputs": [],
   "source": [
    "#### Loading best model\n",
    "best_model = pickle.load(open(\"svm_modified_Content_Cleaned_noStop.sav\", 'rb'))"
   ]
  },
  {
   "cell_type": "code",
   "execution_count": 57,
   "metadata": {},
   "outputs": [
    {
     "name": "stdout",
     "output_type": "stream",
     "text": [
      "Dimensions of train set:  (40000, 30241)\n",
      "Dimensions of to be fitted set:  (465080, 30241)\n"
     ]
    }
   ],
   "source": [
    "from sklearn.feature_extraction.text import CountVectorizer\n",
    "from sklearn.svm import SVC \n",
    "from sklearn.metrics import classification_report\n",
    "cv = CountVectorizer()\n",
    "#### Loading data to train the model (now the whole set)\n",
    "train_data = modified_annotated_df.loc[:,[\"sentiment\", \"Content_Cleaned_noStop\"]]\n",
    "train_x = train_data[\"Content_Cleaned_noStop\"]\n",
    "train_x = [\" \".join(word_list) for word_list in train_x]\n",
    "train_y = train_data[\"sentiment\"]\n",
    "\n",
    "\n",
    "#### Loading data to be fitted\n",
    "X_to_fit = df_to_classify[\"tweet_cleaned\"]\n",
    "X_to_fit = [\" \".join(word_list) for word_list in X_to_fit]\n",
    "\n",
    "#### Vectorizing \n",
    "cv.fit(train_x)\n",
    "X_train = cv.transform(train_x)\n",
    "X_to_fit_vectorized = cv.transform(X_to_fit)\n",
    "\n",
    "print(\"Dimensions of train set: \", X_train.shape)\n",
    "print(\"Dimensions of to be fitted set: \", X_to_fit_vectorized.shape)\n",
    "\n",
    "model = best_model.fit(X_train, train_y)\n",
    "sentiment_predictions = model.predict(X_to_fit_vectorized)"
   ]
  },
  {
   "cell_type": "code",
   "execution_count": 64,
   "metadata": {},
   "outputs": [],
   "source": [
    "df[\"Sentiment_Predictions\"] = sentiment_predictions"
   ]
  },
  {
   "cell_type": "code",
   "execution_count": 68,
   "metadata": {},
   "outputs": [],
   "source": [
    "df.drop(columns = [\"hashtag_search\"], inplace = True)"
   ]
  },
  {
   "cell_type": "code",
   "execution_count": 69,
   "metadata": {},
   "outputs": [],
   "source": [
    "df.to_sql(\"Tweets_with_Sentiment\", conn)"
   ]
  },
  {
   "cell_type": "markdown",
   "metadata": {},
   "source": [
    "### Results"
   ]
  },
  {
   "cell_type": "code",
   "execution_count": 32,
   "metadata": {},
   "outputs": [],
   "source": [
    "import sqlite3\n",
    "import pandas as pd\n",
    "conn = sqlite3.connect(\"IranianCrysis2.db\")\n",
    "c = conn.cursor()\n",
    "df = pd.read_sql_query(\"SELECT * FROM Tweets_with_Sentiment\", conn)\n",
    "df['tweet_createdAt'] = pd.to_datetime(df['tweet_createdAt'])"
   ]
  },
  {
   "cell_type": "markdown",
   "metadata": {},
   "source": [
    "Firstly, we will group tweets by the time they were created with respect to hour. "
   ]
  },
  {
   "cell_type": "code",
   "execution_count": 41,
   "metadata": {},
   "outputs": [],
   "source": [
    "df_daily = df.groupby([pd.Grouper(key='tweet_createdAt',freq='D'),pd.Grouper('Sentiment_Predictions')])['Sentiment_Predictions'].count().unstack().fillna(0)\n",
    "df_hourly = df.groupby([pd.Grouper(key='tweet_createdAt',freq='H'),pd.Grouper('Sentiment_Predictions')])['Sentiment_Predictions'].count().unstack().fillna(0)"
   ]
  },
  {
   "cell_type": "markdown",
   "metadata": {},
   "source": [
    "Firstly, we will plot number of tweets in regard to tweet sentiment."
   ]
  },
  {
   "cell_type": "code",
   "execution_count": 38,
   "metadata": {},
   "outputs": [
    {
     "name": "stdout",
     "output_type": "stream",
     "text": [
      "AxesSubplot(0.125,0.2;0.775x0.68)\n"
     ]
    },
    {
     "data": {
      "image/png": "[encoded data removed]",
      "text/plain": [
       "<Figure size 720x432 with 1 Axes>"
      ]
     },
     "metadata": {
      "needs_background": "light"
     },
     "output_type": "display_data"
    }
   ],
   "source": [
    "plt = df_hourly.plot(rot=45)\n",
    "plt.set_title('Number of tweets (hourly) in regard to tweet sentiment', fontsize=12, loc=\"left\", pad=10)\n",
    "plt.get_yaxis().set_major_formatter(matplotlib.ticker.FuncFormatter(lambda x, p: format(int(x), \",\")))\n",
    "plt.set_ylim(top=10000)\n",
    "plt.axvline(dt.datetime(2020, 1, 3),linewidth=2, color='gray', ymax=0.92, linestyle=\"--\")\n",
    "plt.text(0.44, 0.97, \"Qasem Soleimani's death\", transform=plt.transAxes, fontsize=14,\n",
    "        verticalalignment='top', bbox=dict(alpha=0.2,boxstyle='round',facecolor='gray'))\n",
    "fig = matplotlib.pyplot.gcf()\n",
    "fig.set_size_inches(10, 6)\n",
    "print(plt)"
   ]
  },
  {
   "cell_type": "markdown",
   "metadata": {},
   "source": [
    "Firstly, we can see that Qasem Soleimani's death caused a great stir. Number of tweets skyrocketed, irrespectively to the sentiment. "
   ]
  },
  {
   "cell_type": "code",
   "execution_count": 77,
   "metadata": {},
   "outputs": [
    {
     "data": {
      "text/html": [
       "<div>\n",
       "<style scoped>\n",
       "    .dataframe tbody tr th:only-of-type {\n",
       "        vertical-align: middle;\n",
       "    }\n",
       "\n",
       "    .dataframe tbody tr th {\n",
       "        vertical-align: top;\n",
       "    }\n",
       "\n",
       "    .dataframe thead th {\n",
       "        text-align: right;\n",
       "    }\n",
       "</style>\n",
       "<table border=\"1\" class=\"dataframe\">\n",
       "  <thead>\n",
       "    <tr style=\"text-align: right;\">\n",
       "      <th>Sentiment_Predictions</th>\n",
       "      <th>Unhappy</th>\n",
       "      <th>Neutral</th>\n",
       "      <th>Happy-Active</th>\n",
       "      <th>Happy-Inactive</th>\n",
       "    </tr>\n",
       "    <tr>\n",
       "      <th>tweet_createdAt</th>\n",
       "      <th></th>\n",
       "      <th></th>\n",
       "      <th></th>\n",
       "      <th></th>\n",
       "    </tr>\n",
       "  </thead>\n",
       "  <tbody>\n",
       "    <tr>\n",
       "      <th>2020-01-02</th>\n",
       "      <td>6030</td>\n",
       "      <td>5620</td>\n",
       "      <td>460</td>\n",
       "      <td>1060</td>\n",
       "    </tr>\n",
       "    <tr>\n",
       "      <th>2020-01-03</th>\n",
       "      <td>123675</td>\n",
       "      <td>73610</td>\n",
       "      <td>5829</td>\n",
       "      <td>15090</td>\n",
       "    </tr>\n",
       "  </tbody>\n",
       "</table>\n",
       "</div>"
      ],
      "text/plain": [
       "Sentiment_Predictions  Unhappy  Neutral  Happy-Active  Happy-Inactive\n",
       "tweet_createdAt                                                      \n",
       "2020-01-02                6030     5620           460            1060\n",
       "2020-01-03              123675    73610          5829           15090"
      ]
     },
     "execution_count": 77,
     "metadata": {},
     "output_type": "execute_result"
    }
   ],
   "source": [
    "df_daily.loc[df_daily.index.to_series().isin([dt.datetime(2020, 1, 3),dt.datetime(2020, 1, 2)])]"
   ]
  },
  {
   "cell_type": "markdown",
   "metadata": {},
   "source": [
    "Now we will check how the sentiment of tweets regarding American-Iranian conflict was distributed before Qasem Soleimani's death and after "
   ]
  },
  {
   "cell_type": "code",
   "execution_count": 80,
   "metadata": {},
   "outputs": [
    {
     "name": "stdout",
     "output_type": "stream",
     "text": [
      "AxesSubplot(0.125,0.2;0.775x0.68)\n"
     ]
    },
    {
     "data": {
      "image/png": "[encoded data removed]",
      "text/plain": [
       "<Figure size 720x432 with 1 Axes>"
      ]
     },
     "metadata": {
      "needs_background": "light"
     },
     "output_type": "display_data"
    }
   ],
   "source": [
    "df3 = df_hourly.copy()\n",
    "total_num_of_tweets = df3.sum(axis=1)\n",
    "for column in df3.columns:\n",
    "    df3[column] = df3[column] / total_num_of_tweets\n",
    "plt = df3.plot(rot=45)\n",
    "plt.set_title('blabla', fontsize=12, loc=\"left\", pad=10)\n",
    "plt.get_yaxis().set_major_formatter(matplotlib.ticker.PercentFormatter(xmax=1))\n",
    "plt.set_ylim(top=0.9)\n",
    "plt.axvline(dt.datetime(2020, 1, 3),linewidth=2, color='gray', ymax=0.91, linestyle=\"--\")\n",
    "plt.text(0.44, 0.97, \"Qasem Soleimani's death\", transform=plt.transAxes, fontsize=14,\n",
    "        verticalalignment='top', bbox=dict(alpha=0.2,boxstyle='round',facecolor='gray'))\n",
    "fig = matplotlib.pyplot.gcf()\n",
    "fig.set_size_inches(10, 6)\n",
    "print(plt)"
   ]
  },
  {
   "cell_type": "markdown",
   "metadata": {},
   "source": [
    "We can clearly see that the relative number of Unhappy tweets has increased, while the relative number of neutral tweets fell down. Happy tweets became slightly less frequent and their number became less volatile. This clearly shows that society expressed more negative than positive responses to this incident. "
   ]
  },
  {
   "cell_type": "markdown",
   "metadata": {},
   "source": [
    "## Summary"
   ]
  },
  {
   "cell_type": "markdown",
   "metadata": {},
   "source": [
    "In our research, we analysed the impact of eliminating Iranian general on public views on American-Iranian conflict by using sentiment analysis. Firstly we trained SVM and Naive Bayes models on annotated Crowdflower dataset. Then, we applied best performing model (which occured to be SVM) on our dataset, containing tweets collected by us and including data range from a few days before and after the incident. We found out that this event caused a great interest in society - number of tweets regarding this matter increased greatly. Furthermore, we discovered that percentage of tweets with negative sentiment increased, while relative number of tweets with neutral sentiment fell down.  "
   ]
  },
  {
   "cell_type": "markdown",
   "metadata": {},
   "source": [
    "## Bibliography"
   ]
  },
  {
   "cell_type": "markdown",
   "metadata": {},
   "source": [
    "[1]: Vishal A. Kharde, S.S. Sonawane. (2016). \"Sentiment Analysis of Twitter Data: A Survey of Techniques\". International Journal of Computer Applications, Volume 139 – No.11\n",
    "\n",
    "[2]: Kavya Suppala, Narasinga Rao. (2019). \"Sentiment Analysis Using Naïve Bayes Classifier\". International Journal of Innovative Technology and Exploring Engineering, Volume 8 Issue 8.\n",
    "\n",
    "[3]: Bhumika M. Jadav, Vimalkumar B. Vaghela. (2016). \"Sentiment Analysis using Support Vector Machine based on Feature Selection and Semantic Analysis\". International Journal of Computer Applications, Volume 146, No.13.\n",
    "\n",
    "[4]: Russell, J. A. (1980). \"A circumplex model of affect\". Journal of Personality and Social Psychology, vol. 39, pp. 1161– 1178.\n",
    "\n",
    "[5]: Hasan, M., Rundensteiner, E., & Agu, Emmanuel. (2014). \"EMOTEX: Detecting Emotions in Twitter Messages\". Computer Science Department, Worcester Polytechnic Institute\n",
    "\n",
    "[6] Go, A., Bhayani, R., & Huang, L. (2009). \"Twitter sentiment classification using distant supervision\". CS224N Project Report, Stanford\n",
    "\n",
    "\n",
    "\n"
   ]
  }
 ],
 "metadata": {
  "kernelspec": {
   "display_name": "Python 3",
   "language": "python",
   "name": "python3"
  },
  "language_info": {
   "codemirror_mode": {
    "name": "ipython",
    "version": 3
   },
   "file_extension": ".py",
   "mimetype": "text/x-python",
   "name": "python",
   "nbconvert_exporter": "python",
   "pygments_lexer": "ipython3",
   "version": "3.7.0"
  }
 },
 "nbformat": 4,
 "nbformat_minor": 2
}
