{
 "cells": [
  {
   "cell_type": "code",
   "execution_count": 18,
   "metadata": {},
   "outputs": [],
   "source": [
    "import tweepy\n",
    "import sqlite3\n",
    "import time"
   ]
  },
  {
   "cell_type": "code",
   "execution_count": 19,
   "metadata": {},
   "outputs": [],
   "source": [
    "# conn = sqlite3.connect(\"IranianCrysis.db\")\n",
    "# c = conn.cursor()\n",
    "# c.execute(\"\"\"CREATE TABLE Tweets (generated_id INTEGER PRIMARY KEY,\n",
    "#                                   hashtag_search VARCHAR,\n",
    "#                                   tweet_createdAt DATE,\n",
    "#                                   tweet_id INTEGER,\n",
    "#                                   tweet_userID INTEGER,\n",
    "#                                   tweet_text VARCHAR)\"\"\")"
   ]
  },
  {
   "cell_type": "code",
   "execution_count": 20,
   "metadata": {},
   "outputs": [],
   "source": [
    "keys = []\n",
    "with open(r\"path_to_your_twitter_keys\") as f:\n",
    "    for line in f.readlines():\n",
    "        keys.append(line.strip())\n",
    "\n",
    "\n",
    "ACCESS_TOKEN = keys[0]\n",
    "ACCESS_SECRET = keys[1]\n",
    "CONSUMER_KEY = keys[2]\n",
    "CONSUMER_SECRET = keys[3]\n",
    "auth = tweepy.OAuthHandler(CONSUMER_KEY, CONSUMER_SECRET)\n",
    "auth.set_access_token(ACCESS_TOKEN, ACCESS_SECRET)\n",
    "api = tweepy.API(auth, wait_on_rate_limit=True, wait_on_rate_limit_notify=True, compression=True)"
   ]
  },
  {
   "cell_type": "code",
   "execution_count": 21,
   "metadata": {},
   "outputs": [],
   "source": [
    "iranian_crysis_hashtags = [\"#Iran\", \"#USA\", \"#Iraq\", \"#Trump\", \"#Soleimani\", \n",
    "                       \"#Israel\", \"#WWIII\", \"#War\", \"#WorldWar\"]"
   ]
  },
  {
   "cell_type": "code",
   "execution_count": 22,
   "metadata": {},
   "outputs": [],
   "source": [
    "iranian_crysis_hashtags2 = '\"#Iran\" OR \"#USA\" OR \"#Iraq\" OR \"#Trump\" OR \"#Soleimani\" OR \"#Israel\" OR \"#WWIII\" OR \"#War\" OR \"#WorldWar\" -filter:retweets'"
   ]
  },
  {
   "cell_type": "code",
   "execution_count": 23,
   "metadata": {},
   "outputs": [],
   "source": [
    "conn = sqlite3.connect(\"IranianCrysis2.db\")\n",
    "c = conn.cursor()"
   ]
  },
  {
   "cell_type": "code",
   "execution_count": 24,
   "metadata": {},
   "outputs": [
    {
     "data": {
      "text/plain": [
       "1213611053210382337"
      ]
     },
     "execution_count": 24,
     "metadata": {},
     "output_type": "execute_result"
    }
   ],
   "source": [
    "id_ = list(c.execute(\"SELECT MAX(tweet_id) FROM Tweets\"))[0][0]\n",
    "id_"
   ]
  },
  {
   "cell_type": "code",
   "execution_count": 3,
   "metadata": {},
   "outputs": [],
   "source": [
    "conn = sqlite3.connect(\"IranianCrysis2.db\")\n",
    "c = conn.cursor()\n",
    "\n",
    "for tweet in tweepy.Cursor(api.search, q = iranian_crysis_hashtags2, \n",
    "                               lang = \"en\", count = 100, since_id = id_).items():\n",
    "    data = []\n",
    "    data.append(tweet)\n",
    "    data_to_db = [(None, None, tw.created_at, tw.id, tw.user.id, tw.text) for tw in data]\n",
    "    c.executemany('INSERT INTO Tweets VALUES (?,?,?,?,?,?)', data_to_db)\n",
    "    conn.commit()"
   ]
  },
  {
   "cell_type": "code",
   "execution_count": 7,
   "metadata": {},
   "outputs": [],
   "source": []
  },
  {
   "cell_type": "code",
   "execution_count": null,
   "metadata": {},
   "outputs": [],
   "source": []
  }
 ],
 "metadata": {
  "kernelspec": {
   "display_name": "Python 3",
   "language": "python",
   "name": "python3"
  },
  "language_info": {
   "codemirror_mode": {
    "name": "ipython",
    "version": 3
   },
   "file_extension": ".py",
   "mimetype": "text/x-python",
   "name": "python",
   "nbconvert_exporter": "python",
   "pygments_lexer": "ipython3",
   "version": "3.7.0"
  }
 },
 "nbformat": 4,
 "nbformat_minor": 2
}
